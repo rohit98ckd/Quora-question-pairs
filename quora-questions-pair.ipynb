{
 "cells": [
  {
   "cell_type": "code",
   "execution_count": 38,
   "metadata": {
    "_cell_guid": "b1076dfc-b9ad-4769-8c92-a6c4dae69d19",
    "_uuid": "8f2839f25d086af736a60e9eeb907d3b93b6e0e5",
    "execution": {
     "iopub.execute_input": "2023-01-09T04:09:05.503314Z",
     "iopub.status.busy": "2023-01-09T04:09:05.502832Z",
     "iopub.status.idle": "2023-01-09T04:09:05.513814Z",
     "shell.execute_reply": "2023-01-09T04:09:05.512128Z",
     "shell.execute_reply.started": "2023-01-09T04:09:05.503281Z"
    }
   },
   "outputs": [],
   "source": [
    "# This Python 3 environment comes with many helpful analytics libraries installed\n",
    "# It is defined by the kaggle/python Docker image: https://github.com/kaggle/docker-python\n",
    "# For example, here's several helpful packages to load\n",
    "\n",
    "import numpy as np # linear algebra\n",
    "import pandas as pd # data processing, CSV file I/O (e.g. pd.read_csv)\n",
    "\n",
    "# Input data files are available in the read-only \"../input/\" directory\n",
    "# For example, running this (by clicking run or pressing Shift+Enter) will list all files under the input directory\n",
    "\n",
    "import os\n",
    "for dirname, _, filenames in os.walk('/kaggle/input'):\n",
    "    for filename in filenames:\n",
    "        print(os.path.join(dirname, filename))\n",
    "\n",
    "# You can write up to 20GB to the current directory (/kaggle/working/) that gets preserved as output when you create a version using \"Save & Run All\" \n",
    "# You can also write temporary files to /kaggle/temp/, but they won't be saved outside of the current session"
   ]
  },
  {
   "cell_type": "code",
   "execution_count": 39,
   "metadata": {
    "execution": {
     "iopub.execute_input": "2023-01-09T04:09:05.881883Z",
     "iopub.status.busy": "2023-01-09T04:09:05.881518Z",
     "iopub.status.idle": "2023-01-09T04:09:05.888421Z",
     "shell.execute_reply": "2023-01-09T04:09:05.886504Z",
     "shell.execute_reply.started": "2023-01-09T04:09:05.881856Z"
    }
   },
   "outputs": [],
   "source": [
    "import matplotlib.pyplot as plt\n",
    "import seaborn as sns\n",
    "import re\n",
    "from bs4 import BeautifulSoup"
   ]
  },
  {
   "cell_type": "code",
   "execution_count": 40,
   "metadata": {
    "execution": {
     "iopub.execute_input": "2023-01-09T04:09:06.255717Z",
     "iopub.status.busy": "2023-01-09T04:09:06.255398Z",
     "iopub.status.idle": "2023-01-09T04:09:07.677774Z",
     "shell.execute_reply": "2023-01-09T04:09:07.676725Z",
     "shell.execute_reply.started": "2023-01-09T04:09:06.255691Z"
    }
   },
   "outputs": [
    {
     "data": {
      "text/html": [
       "<div>\n",
       "<style scoped>\n",
       "    .dataframe tbody tr th:only-of-type {\n",
       "        vertical-align: middle;\n",
       "    }\n",
       "\n",
       "    .dataframe tbody tr th {\n",
       "        vertical-align: top;\n",
       "    }\n",
       "\n",
       "    .dataframe thead th {\n",
       "        text-align: right;\n",
       "    }\n",
       "</style>\n",
       "<table border=\"1\" class=\"dataframe\">\n",
       "  <thead>\n",
       "    <tr style=\"text-align: right;\">\n",
       "      <th></th>\n",
       "      <th>id</th>\n",
       "      <th>qid1</th>\n",
       "      <th>qid2</th>\n",
       "      <th>question1</th>\n",
       "      <th>question2</th>\n",
       "      <th>is_duplicate</th>\n",
       "    </tr>\n",
       "  </thead>\n",
       "  <tbody>\n",
       "    <tr>\n",
       "      <th>0</th>\n",
       "      <td>0</td>\n",
       "      <td>1</td>\n",
       "      <td>2</td>\n",
       "      <td>What is the step by step guide to invest in sh...</td>\n",
       "      <td>What is the step by step guide to invest in sh...</td>\n",
       "      <td>0</td>\n",
       "    </tr>\n",
       "    <tr>\n",
       "      <th>1</th>\n",
       "      <td>1</td>\n",
       "      <td>3</td>\n",
       "      <td>4</td>\n",
       "      <td>What is the story of Kohinoor (Koh-i-Noor) Dia...</td>\n",
       "      <td>What would happen if the Indian government sto...</td>\n",
       "      <td>0</td>\n",
       "    </tr>\n",
       "    <tr>\n",
       "      <th>2</th>\n",
       "      <td>2</td>\n",
       "      <td>5</td>\n",
       "      <td>6</td>\n",
       "      <td>How can I increase the speed of my internet co...</td>\n",
       "      <td>How can Internet speed be increased by hacking...</td>\n",
       "      <td>0</td>\n",
       "    </tr>\n",
       "    <tr>\n",
       "      <th>3</th>\n",
       "      <td>3</td>\n",
       "      <td>7</td>\n",
       "      <td>8</td>\n",
       "      <td>Why am I mentally very lonely? How can I solve...</td>\n",
       "      <td>Find the remainder when [math]23^{24}[/math] i...</td>\n",
       "      <td>0</td>\n",
       "    </tr>\n",
       "    <tr>\n",
       "      <th>4</th>\n",
       "      <td>4</td>\n",
       "      <td>9</td>\n",
       "      <td>10</td>\n",
       "      <td>Which one dissolve in water quikly sugar, salt...</td>\n",
       "      <td>Which fish would survive in salt water?</td>\n",
       "      <td>0</td>\n",
       "    </tr>\n",
       "    <tr>\n",
       "      <th>...</th>\n",
       "      <td>...</td>\n",
       "      <td>...</td>\n",
       "      <td>...</td>\n",
       "      <td>...</td>\n",
       "      <td>...</td>\n",
       "      <td>...</td>\n",
       "    </tr>\n",
       "    <tr>\n",
       "      <th>404285</th>\n",
       "      <td>404285</td>\n",
       "      <td>433578</td>\n",
       "      <td>379845</td>\n",
       "      <td>How many keywords are there in the Racket prog...</td>\n",
       "      <td>How many keywords are there in PERL Programmin...</td>\n",
       "      <td>0</td>\n",
       "    </tr>\n",
       "    <tr>\n",
       "      <th>404286</th>\n",
       "      <td>404286</td>\n",
       "      <td>18840</td>\n",
       "      <td>155606</td>\n",
       "      <td>Do you believe there is life after death?</td>\n",
       "      <td>Is it true that there is life after death?</td>\n",
       "      <td>1</td>\n",
       "    </tr>\n",
       "    <tr>\n",
       "      <th>404287</th>\n",
       "      <td>404287</td>\n",
       "      <td>537928</td>\n",
       "      <td>537929</td>\n",
       "      <td>What is one coin?</td>\n",
       "      <td>What's this coin?</td>\n",
       "      <td>0</td>\n",
       "    </tr>\n",
       "    <tr>\n",
       "      <th>404288</th>\n",
       "      <td>404288</td>\n",
       "      <td>537930</td>\n",
       "      <td>537931</td>\n",
       "      <td>What is the approx annual cost of living while...</td>\n",
       "      <td>I am having little hairfall problem but I want...</td>\n",
       "      <td>0</td>\n",
       "    </tr>\n",
       "    <tr>\n",
       "      <th>404289</th>\n",
       "      <td>404289</td>\n",
       "      <td>537932</td>\n",
       "      <td>537933</td>\n",
       "      <td>What is like to have sex with cousin?</td>\n",
       "      <td>What is it like to have sex with your cousin?</td>\n",
       "      <td>0</td>\n",
       "    </tr>\n",
       "  </tbody>\n",
       "</table>\n",
       "<p>404290 rows × 6 columns</p>\n",
       "</div>"
      ],
      "text/plain": [
       "            id    qid1    qid2  \\\n",
       "0            0       1       2   \n",
       "1            1       3       4   \n",
       "2            2       5       6   \n",
       "3            3       7       8   \n",
       "4            4       9      10   \n",
       "...        ...     ...     ...   \n",
       "404285  404285  433578  379845   \n",
       "404286  404286   18840  155606   \n",
       "404287  404287  537928  537929   \n",
       "404288  404288  537930  537931   \n",
       "404289  404289  537932  537933   \n",
       "\n",
       "                                                question1  \\\n",
       "0       What is the step by step guide to invest in sh...   \n",
       "1       What is the story of Kohinoor (Koh-i-Noor) Dia...   \n",
       "2       How can I increase the speed of my internet co...   \n",
       "3       Why am I mentally very lonely? How can I solve...   \n",
       "4       Which one dissolve in water quikly sugar, salt...   \n",
       "...                                                   ...   \n",
       "404285  How many keywords are there in the Racket prog...   \n",
       "404286          Do you believe there is life after death?   \n",
       "404287                                  What is one coin?   \n",
       "404288  What is the approx annual cost of living while...   \n",
       "404289              What is like to have sex with cousin?   \n",
       "\n",
       "                                                question2  is_duplicate  \n",
       "0       What is the step by step guide to invest in sh...             0  \n",
       "1       What would happen if the Indian government sto...             0  \n",
       "2       How can Internet speed be increased by hacking...             0  \n",
       "3       Find the remainder when [math]23^{24}[/math] i...             0  \n",
       "4                 Which fish would survive in salt water?             0  \n",
       "...                                                   ...           ...  \n",
       "404285  How many keywords are there in PERL Programmin...             0  \n",
       "404286         Is it true that there is life after death?             1  \n",
       "404287                                  What's this coin?             0  \n",
       "404288  I am having little hairfall problem but I want...             0  \n",
       "404289      What is it like to have sex with your cousin?             0  \n",
       "\n",
       "[404290 rows x 6 columns]"
      ]
     },
     "execution_count": 40,
     "metadata": {},
     "output_type": "execute_result"
    }
   ],
   "source": [
    "df = pd.read_csv('train.csv/train.csv')\n",
    "df"
   ]
  },
  {
   "cell_type": "code",
   "execution_count": 41,
   "metadata": {
    "execution": {
     "iopub.execute_input": "2023-01-09T04:09:07.680477Z",
     "iopub.status.busy": "2023-01-09T04:09:07.679107Z",
     "iopub.status.idle": "2023-01-09T04:09:07.689548Z",
     "shell.execute_reply": "2023-01-09T04:09:07.688432Z",
     "shell.execute_reply.started": "2023-01-09T04:09:07.680366Z"
    }
   },
   "outputs": [
    {
     "data": {
      "text/plain": [
       "(404290, 6)"
      ]
     },
     "execution_count": 41,
     "metadata": {},
     "output_type": "execute_result"
    }
   ],
   "source": [
    "df.shape"
   ]
  },
  {
   "cell_type": "code",
   "execution_count": 42,
   "metadata": {
    "execution": {
     "iopub.execute_input": "2023-01-09T04:09:08.174799Z",
     "iopub.status.busy": "2023-01-09T04:09:08.174320Z",
     "iopub.status.idle": "2023-01-09T04:09:08.187426Z",
     "shell.execute_reply": "2023-01-09T04:09:08.185717Z",
     "shell.execute_reply.started": "2023-01-09T04:09:08.174775Z"
    }
   },
   "outputs": [
    {
     "data": {
      "text/html": [
       "<div>\n",
       "<style scoped>\n",
       "    .dataframe tbody tr th:only-of-type {\n",
       "        vertical-align: middle;\n",
       "    }\n",
       "\n",
       "    .dataframe tbody tr th {\n",
       "        vertical-align: top;\n",
       "    }\n",
       "\n",
       "    .dataframe thead th {\n",
       "        text-align: right;\n",
       "    }\n",
       "</style>\n",
       "<table border=\"1\" class=\"dataframe\">\n",
       "  <thead>\n",
       "    <tr style=\"text-align: right;\">\n",
       "      <th></th>\n",
       "      <th>id</th>\n",
       "      <th>qid1</th>\n",
       "      <th>qid2</th>\n",
       "      <th>question1</th>\n",
       "      <th>question2</th>\n",
       "      <th>is_duplicate</th>\n",
       "    </tr>\n",
       "  </thead>\n",
       "  <tbody>\n",
       "    <tr>\n",
       "      <th>0</th>\n",
       "      <td>0</td>\n",
       "      <td>1</td>\n",
       "      <td>2</td>\n",
       "      <td>What is the step by step guide to invest in sh...</td>\n",
       "      <td>What is the step by step guide to invest in sh...</td>\n",
       "      <td>0</td>\n",
       "    </tr>\n",
       "    <tr>\n",
       "      <th>1</th>\n",
       "      <td>1</td>\n",
       "      <td>3</td>\n",
       "      <td>4</td>\n",
       "      <td>What is the story of Kohinoor (Koh-i-Noor) Dia...</td>\n",
       "      <td>What would happen if the Indian government sto...</td>\n",
       "      <td>0</td>\n",
       "    </tr>\n",
       "    <tr>\n",
       "      <th>2</th>\n",
       "      <td>2</td>\n",
       "      <td>5</td>\n",
       "      <td>6</td>\n",
       "      <td>How can I increase the speed of my internet co...</td>\n",
       "      <td>How can Internet speed be increased by hacking...</td>\n",
       "      <td>0</td>\n",
       "    </tr>\n",
       "    <tr>\n",
       "      <th>3</th>\n",
       "      <td>3</td>\n",
       "      <td>7</td>\n",
       "      <td>8</td>\n",
       "      <td>Why am I mentally very lonely? How can I solve...</td>\n",
       "      <td>Find the remainder when [math]23^{24}[/math] i...</td>\n",
       "      <td>0</td>\n",
       "    </tr>\n",
       "    <tr>\n",
       "      <th>4</th>\n",
       "      <td>4</td>\n",
       "      <td>9</td>\n",
       "      <td>10</td>\n",
       "      <td>Which one dissolve in water quikly sugar, salt...</td>\n",
       "      <td>Which fish would survive in salt water?</td>\n",
       "      <td>0</td>\n",
       "    </tr>\n",
       "  </tbody>\n",
       "</table>\n",
       "</div>"
      ],
      "text/plain": [
       "   id  qid1  qid2                                          question1  \\\n",
       "0   0     1     2  What is the step by step guide to invest in sh...   \n",
       "1   1     3     4  What is the story of Kohinoor (Koh-i-Noor) Dia...   \n",
       "2   2     5     6  How can I increase the speed of my internet co...   \n",
       "3   3     7     8  Why am I mentally very lonely? How can I solve...   \n",
       "4   4     9    10  Which one dissolve in water quikly sugar, salt...   \n",
       "\n",
       "                                           question2  is_duplicate  \n",
       "0  What is the step by step guide to invest in sh...             0  \n",
       "1  What would happen if the Indian government sto...             0  \n",
       "2  How can Internet speed be increased by hacking...             0  \n",
       "3  Find the remainder when [math]23^{24}[/math] i...             0  \n",
       "4            Which fish would survive in salt water?             0  "
      ]
     },
     "execution_count": 42,
     "metadata": {},
     "output_type": "execute_result"
    }
   ],
   "source": [
    "df.head()"
   ]
  },
  {
   "cell_type": "code",
   "execution_count": 43,
   "metadata": {
    "execution": {
     "iopub.execute_input": "2023-01-09T04:09:08.471118Z",
     "iopub.status.busy": "2023-01-09T04:09:08.470744Z",
     "iopub.status.idle": "2023-01-09T04:09:08.495932Z",
     "shell.execute_reply": "2023-01-09T04:09:08.494846Z",
     "shell.execute_reply.started": "2023-01-09T04:09:08.471075Z"
    }
   },
   "outputs": [
    {
     "data": {
      "text/html": [
       "<div>\n",
       "<style scoped>\n",
       "    .dataframe tbody tr th:only-of-type {\n",
       "        vertical-align: middle;\n",
       "    }\n",
       "\n",
       "    .dataframe tbody tr th {\n",
       "        vertical-align: top;\n",
       "    }\n",
       "\n",
       "    .dataframe thead th {\n",
       "        text-align: right;\n",
       "    }\n",
       "</style>\n",
       "<table border=\"1\" class=\"dataframe\">\n",
       "  <thead>\n",
       "    <tr style=\"text-align: right;\">\n",
       "      <th></th>\n",
       "      <th>id</th>\n",
       "      <th>qid1</th>\n",
       "      <th>qid2</th>\n",
       "      <th>question1</th>\n",
       "      <th>question2</th>\n",
       "      <th>is_duplicate</th>\n",
       "    </tr>\n",
       "  </thead>\n",
       "  <tbody>\n",
       "    <tr>\n",
       "      <th>122730</th>\n",
       "      <td>122730</td>\n",
       "      <td>198580</td>\n",
       "      <td>198581</td>\n",
       "      <td>I see her often examples of words to approach ...</td>\n",
       "      <td>Is it really economically plausible to keep Am...</td>\n",
       "      <td>0</td>\n",
       "    </tr>\n",
       "    <tr>\n",
       "      <th>182508</th>\n",
       "      <td>182508</td>\n",
       "      <td>279304</td>\n",
       "      <td>279305</td>\n",
       "      <td>How do students at Harvard spend their time?</td>\n",
       "      <td>How do MIT students spend their time?</td>\n",
       "      <td>1</td>\n",
       "    </tr>\n",
       "    <tr>\n",
       "      <th>29953</th>\n",
       "      <td>29953</td>\n",
       "      <td>55372</td>\n",
       "      <td>55373</td>\n",
       "      <td>What's the funniest movie you have ever seen?</td>\n",
       "      <td>What is the funniest movie you have ever watched?</td>\n",
       "      <td>1</td>\n",
       "    </tr>\n",
       "    <tr>\n",
       "      <th>385756</th>\n",
       "      <td>385756</td>\n",
       "      <td>517921</td>\n",
       "      <td>517922</td>\n",
       "      <td>Is there any story about drug addiction and al...</td>\n",
       "      <td>What is your story about drug addiction?</td>\n",
       "      <td>0</td>\n",
       "    </tr>\n",
       "    <tr>\n",
       "      <th>336188</th>\n",
       "      <td>336188</td>\n",
       "      <td>463521</td>\n",
       "      <td>463522</td>\n",
       "      <td>Where does Hans Zimmer get inspiration for com...</td>\n",
       "      <td>Who is the better musician/composer, Thomas Ne...</td>\n",
       "      <td>0</td>\n",
       "    </tr>\n",
       "    <tr>\n",
       "      <th>171101</th>\n",
       "      <td>171101</td>\n",
       "      <td>227703</td>\n",
       "      <td>184237</td>\n",
       "      <td>What are the seven colours of the rainbow?</td>\n",
       "      <td>What is the sequence of colours in the rainbow?</td>\n",
       "      <td>1</td>\n",
       "    </tr>\n",
       "    <tr>\n",
       "      <th>127186</th>\n",
       "      <td>127186</td>\n",
       "      <td>204807</td>\n",
       "      <td>204808</td>\n",
       "      <td>What is it like to live in West Virginia?</td>\n",
       "      <td>What are some things foreigners believe about ...</td>\n",
       "      <td>0</td>\n",
       "    </tr>\n",
       "    <tr>\n",
       "      <th>358399</th>\n",
       "      <td>358399</td>\n",
       "      <td>323989</td>\n",
       "      <td>215501</td>\n",
       "      <td>What's the cutest thing you've ever seen a sna...</td>\n",
       "      <td>What is the cutest thing you've ever seen in y...</td>\n",
       "      <td>0</td>\n",
       "    </tr>\n",
       "    <tr>\n",
       "      <th>99413</th>\n",
       "      <td>99413</td>\n",
       "      <td>165043</td>\n",
       "      <td>165044</td>\n",
       "      <td>What is the best time to have sex for a baby?</td>\n",
       "      <td>What time of the day is best for sex?</td>\n",
       "      <td>0</td>\n",
       "    </tr>\n",
       "    <tr>\n",
       "      <th>256851</th>\n",
       "      <td>256851</td>\n",
       "      <td>372066</td>\n",
       "      <td>372067</td>\n",
       "      <td>Does Safi really help the skin?</td>\n",
       "      <td>Are sweets really bad for the skin?</td>\n",
       "      <td>0</td>\n",
       "    </tr>\n",
       "  </tbody>\n",
       "</table>\n",
       "</div>"
      ],
      "text/plain": [
       "            id    qid1    qid2  \\\n",
       "122730  122730  198580  198581   \n",
       "182508  182508  279304  279305   \n",
       "29953    29953   55372   55373   \n",
       "385756  385756  517921  517922   \n",
       "336188  336188  463521  463522   \n",
       "171101  171101  227703  184237   \n",
       "127186  127186  204807  204808   \n",
       "358399  358399  323989  215501   \n",
       "99413    99413  165043  165044   \n",
       "256851  256851  372066  372067   \n",
       "\n",
       "                                                question1  \\\n",
       "122730  I see her often examples of words to approach ...   \n",
       "182508       How do students at Harvard spend their time?   \n",
       "29953       What's the funniest movie you have ever seen?   \n",
       "385756  Is there any story about drug addiction and al...   \n",
       "336188  Where does Hans Zimmer get inspiration for com...   \n",
       "171101         What are the seven colours of the rainbow?   \n",
       "127186          What is it like to live in West Virginia?   \n",
       "358399  What's the cutest thing you've ever seen a sna...   \n",
       "99413       What is the best time to have sex for a baby?   \n",
       "256851                    Does Safi really help the skin?   \n",
       "\n",
       "                                                question2  is_duplicate  \n",
       "122730  Is it really economically plausible to keep Am...             0  \n",
       "182508              How do MIT students spend their time?             1  \n",
       "29953   What is the funniest movie you have ever watched?             1  \n",
       "385756           What is your story about drug addiction?             0  \n",
       "336188  Who is the better musician/composer, Thomas Ne...             0  \n",
       "171101    What is the sequence of colours in the rainbow?             1  \n",
       "127186  What are some things foreigners believe about ...             0  \n",
       "358399  What is the cutest thing you've ever seen in y...             0  \n",
       "99413               What time of the day is best for sex?             0  \n",
       "256851                Are sweets really bad for the skin?             0  "
      ]
     },
     "execution_count": 43,
     "metadata": {},
     "output_type": "execute_result"
    }
   ],
   "source": [
    "df.sample(10)"
   ]
  },
  {
   "cell_type": "code",
   "execution_count": 44,
   "metadata": {
    "execution": {
     "iopub.execute_input": "2023-01-09T04:09:08.790825Z",
     "iopub.status.busy": "2023-01-09T04:09:08.790353Z",
     "iopub.status.idle": "2023-01-09T04:09:08.863571Z",
     "shell.execute_reply": "2023-01-09T04:09:08.862645Z",
     "shell.execute_reply.started": "2023-01-09T04:09:08.790800Z"
    }
   },
   "outputs": [
    {
     "name": "stdout",
     "output_type": "stream",
     "text": [
      "<class 'pandas.core.frame.DataFrame'>\n",
      "RangeIndex: 404290 entries, 0 to 404289\n",
      "Data columns (total 6 columns):\n",
      " #   Column        Non-Null Count   Dtype \n",
      "---  ------        --------------   ----- \n",
      " 0   id            404290 non-null  int64 \n",
      " 1   qid1          404290 non-null  int64 \n",
      " 2   qid2          404290 non-null  int64 \n",
      " 3   question1     404289 non-null  object\n",
      " 4   question2     404288 non-null  object\n",
      " 5   is_duplicate  404290 non-null  int64 \n",
      "dtypes: int64(4), object(2)\n",
      "memory usage: 18.5+ MB\n"
     ]
    }
   ],
   "source": [
    "df.info()"
   ]
  },
  {
   "cell_type": "code",
   "execution_count": 45,
   "metadata": {
    "execution": {
     "iopub.execute_input": "2023-01-09T04:09:09.107804Z",
     "iopub.status.busy": "2023-01-09T04:09:09.107451Z",
     "iopub.status.idle": "2023-01-09T04:09:09.173911Z",
     "shell.execute_reply": "2023-01-09T04:09:09.172222Z",
     "shell.execute_reply.started": "2023-01-09T04:09:09.107778Z"
    }
   },
   "outputs": [
    {
     "data": {
      "text/plain": [
       "id              0\n",
       "qid1            0\n",
       "qid2            0\n",
       "question1       1\n",
       "question2       2\n",
       "is_duplicate    0\n",
       "dtype: int64"
      ]
     },
     "execution_count": 45,
     "metadata": {},
     "output_type": "execute_result"
    }
   ],
   "source": [
    "df.isna().sum()   #missing values"
   ]
  },
  {
   "cell_type": "code",
   "execution_count": 46,
   "metadata": {
    "execution": {
     "iopub.execute_input": "2023-01-09T04:09:09.364653Z",
     "iopub.status.busy": "2023-01-09T04:09:09.364304Z",
     "iopub.status.idle": "2023-01-09T04:09:09.842051Z",
     "shell.execute_reply": "2023-01-09T04:09:09.840617Z",
     "shell.execute_reply.started": "2023-01-09T04:09:09.364627Z"
    }
   },
   "outputs": [
    {
     "data": {
      "text/plain": [
       "0"
      ]
     },
     "execution_count": 46,
     "metadata": {},
     "output_type": "execute_result"
    }
   ],
   "source": [
    "df.duplicated().sum()  #duplicate rows"
   ]
  },
  {
   "cell_type": "code",
   "execution_count": 47,
   "metadata": {
    "execution": {
     "iopub.execute_input": "2023-01-09T04:09:09.844437Z",
     "iopub.status.busy": "2023-01-09T04:09:09.844060Z",
     "iopub.status.idle": "2023-01-09T04:09:09.858223Z",
     "shell.execute_reply": "2023-01-09T04:09:09.857074Z",
     "shell.execute_reply.started": "2023-01-09T04:09:09.844411Z"
    }
   },
   "outputs": [
    {
     "data": {
      "text/plain": [
       "0    255027\n",
       "1    149263\n",
       "Name: is_duplicate, dtype: int64"
      ]
     },
     "execution_count": 47,
     "metadata": {},
     "output_type": "execute_result"
    }
   ],
   "source": [
    "#distribution of duplicate and non duplicate questions\n",
    "\n",
    "df['is_duplicate'].value_counts()"
   ]
  },
  {
   "cell_type": "code",
   "execution_count": 48,
   "metadata": {
    "execution": {
     "iopub.execute_input": "2023-01-09T04:09:09.974210Z",
     "iopub.status.busy": "2023-01-09T04:09:09.973853Z",
     "iopub.status.idle": "2023-01-09T04:09:09.988319Z",
     "shell.execute_reply": "2023-01-09T04:09:09.987140Z",
     "shell.execute_reply.started": "2023-01-09T04:09:09.974186Z"
    }
   },
   "outputs": [
    {
     "data": {
      "text/plain": [
       "0    63.080215\n",
       "1    36.919785\n",
       "Name: is_duplicate, dtype: float64"
      ]
     },
     "execution_count": 48,
     "metadata": {},
     "output_type": "execute_result"
    }
   ],
   "source": [
    "(df['is_duplicate'].value_counts()/df['is_duplicate'].count())*100"
   ]
  },
  {
   "cell_type": "code",
   "execution_count": 49,
   "metadata": {
    "execution": {
     "iopub.execute_input": "2023-01-09T04:09:10.307885Z",
     "iopub.status.busy": "2023-01-09T04:09:10.306211Z",
     "iopub.status.idle": "2023-01-09T04:09:10.633570Z",
     "shell.execute_reply": "2023-01-09T04:09:10.631612Z",
     "shell.execute_reply.started": "2023-01-09T04:09:10.307830Z"
    }
   },
   "outputs": [
    {
     "data": {
      "text/plain": [
       "<AxesSubplot:>"
      ]
     },
     "execution_count": 49,
     "metadata": {},
     "output_type": "execute_result"
    },
    {
     "data": {
      "image/png": "[encoded data removed]",
      "text/plain": [
       "<Figure size 432x288 with 1 Axes>"
      ]
     },
     "metadata": {
      "needs_background": "light"
     },
     "output_type": "display_data"
    }
   ],
   "source": [
    "df['is_duplicate'].value_counts().plot(kind=\"bar\")"
   ]
  },
  {
   "cell_type": "code",
   "execution_count": 50,
   "metadata": {
    "execution": {
     "iopub.execute_input": "2023-01-09T04:09:10.636686Z",
     "iopub.status.busy": "2023-01-09T04:09:10.636229Z",
     "iopub.status.idle": "2023-01-09T04:09:10.849603Z",
     "shell.execute_reply": "2023-01-09T04:09:10.848312Z",
     "shell.execute_reply.started": "2023-01-09T04:09:10.636649Z"
    }
   },
   "outputs": [
    {
     "data": {
      "text/plain": [
       "0              1\n",
       "1              3\n",
       "2              5\n",
       "3              7\n",
       "4              9\n",
       "           ...  \n",
       "808575    379845\n",
       "808576    155606\n",
       "808577    537929\n",
       "808578    537931\n",
       "808579    537933\n",
       "Length: 808580, dtype: int64"
      ]
     },
     "execution_count": 50,
     "metadata": {},
     "output_type": "execute_result"
    }
   ],
   "source": [
    "#repeated questions\n",
    "\n",
    "qid = pd.Series(df['qid1'].tolist() + df['qid2'].tolist())\n",
    "qid"
   ]
  },
  {
   "cell_type": "code",
   "execution_count": 51,
   "metadata": {
    "execution": {
     "iopub.execute_input": "2023-01-09T04:09:10.902845Z",
     "iopub.status.busy": "2023-01-09T04:09:10.902531Z",
     "iopub.status.idle": "2023-01-09T04:09:10.910232Z",
     "shell.execute_reply": "2023-01-09T04:09:10.908828Z",
     "shell.execute_reply.started": "2023-01-09T04:09:10.902821Z"
    }
   },
   "outputs": [
    {
     "data": {
      "text/plain": [
       "808580"
      ]
     },
     "execution_count": 51,
     "metadata": {},
     "output_type": "execute_result"
    }
   ],
   "source": [
    "len(qid)"
   ]
  },
  {
   "cell_type": "code",
   "execution_count": 52,
   "metadata": {
    "execution": {
     "iopub.execute_input": "2023-01-09T04:09:11.296683Z",
     "iopub.status.busy": "2023-01-09T04:09:11.296312Z",
     "iopub.status.idle": "2023-01-09T04:09:11.364834Z",
     "shell.execute_reply": "2023-01-09T04:09:11.363164Z",
     "shell.execute_reply.started": "2023-01-09T04:09:11.296655Z"
    }
   },
   "outputs": [
    {
     "data": {
      "text/plain": [
       "537933"
      ]
     },
     "execution_count": 52,
     "metadata": {},
     "output_type": "execute_result"
    }
   ],
   "source": [
    "np.unique(qid).shape[0]"
   ]
  },
  {
   "cell_type": "code",
   "execution_count": 53,
   "metadata": {
    "execution": {
     "iopub.execute_input": "2023-01-09T04:09:11.771751Z",
     "iopub.status.busy": "2023-01-09T04:09:11.771443Z",
     "iopub.status.idle": "2023-01-09T04:09:11.848388Z",
     "shell.execute_reply": "2023-01-09T04:09:11.847170Z",
     "shell.execute_reply.started": "2023-01-09T04:09:11.771727Z"
    }
   },
   "outputs": [
    {
     "data": {
      "text/plain": [
       "111780"
      ]
     },
     "execution_count": 53,
     "metadata": {},
     "output_type": "execute_result"
    }
   ],
   "source": [
    "x = qid.value_counts() >1\n",
    "x[x].shape[0]"
   ]
  },
  {
   "cell_type": "code",
   "execution_count": 54,
   "metadata": {
    "execution": {
     "iopub.execute_input": "2023-01-09T04:09:11.980565Z",
     "iopub.status.busy": "2023-01-09T04:09:11.979225Z",
     "iopub.status.idle": "2023-01-09T04:09:12.999544Z",
     "shell.execute_reply": "2023-01-09T04:09:12.998413Z",
     "shell.execute_reply.started": "2023-01-09T04:09:11.980495Z"
    }
   },
   "outputs": [
    {
     "data": {
      "image/png": "[encoded data removed]",
      "text/plain": [
       "<Figure size 432x288 with 1 Axes>"
      ]
     },
     "metadata": {
      "needs_background": "light"
     },
     "output_type": "display_data"
    }
   ],
   "source": [
    "# repeated questions histogram\n",
    "\n",
    "plt.hist(qid.value_counts().values, bins=160)\n",
    "plt.yscale(\"log\")\n",
    "plt.show()"
   ]
  },
  {
   "cell_type": "code",
   "execution_count": 55,
   "metadata": {
    "execution": {
     "iopub.execute_input": "2023-01-09T04:09:13.001511Z",
     "iopub.status.busy": "2023-01-09T04:09:13.001243Z",
     "iopub.status.idle": "2023-01-09T04:09:13.034599Z",
     "shell.execute_reply": "2023-01-09T04:09:13.033239Z",
     "shell.execute_reply.started": "2023-01-09T04:09:13.001484Z"
    }
   },
   "outputs": [],
   "source": [
    "new_df = df.sample(50000)"
   ]
  },
  {
   "cell_type": "code",
   "execution_count": 56,
   "metadata": {
    "execution": {
     "iopub.execute_input": "2023-01-09T04:09:13.036675Z",
     "iopub.status.busy": "2023-01-09T04:09:13.036303Z",
     "iopub.status.idle": "2023-01-09T04:09:13.062323Z",
     "shell.execute_reply": "2023-01-09T04:09:13.061217Z",
     "shell.execute_reply.started": "2023-01-09T04:09:13.036650Z"
    }
   },
   "outputs": [
    {
     "data": {
      "text/plain": [
       "id              0\n",
       "qid1            0\n",
       "qid2            0\n",
       "question1       0\n",
       "question2       0\n",
       "is_duplicate    0\n",
       "dtype: int64"
      ]
     },
     "execution_count": 56,
     "metadata": {},
     "output_type": "execute_result"
    }
   ],
   "source": [
    "new_df.isna().sum()"
   ]
  },
  {
   "cell_type": "code",
   "execution_count": 57,
   "metadata": {
    "execution": {
     "iopub.execute_input": "2023-01-09T04:09:13.333749Z",
     "iopub.status.busy": "2023-01-09T04:09:13.333415Z",
     "iopub.status.idle": "2023-01-09T04:09:13.351195Z",
     "shell.execute_reply": "2023-01-09T04:09:13.349746Z",
     "shell.execute_reply.started": "2023-01-09T04:09:13.333725Z"
    }
   },
   "outputs": [
    {
     "data": {
      "text/html": [
       "<div>\n",
       "<style scoped>\n",
       "    .dataframe tbody tr th:only-of-type {\n",
       "        vertical-align: middle;\n",
       "    }\n",
       "\n",
       "    .dataframe tbody tr th {\n",
       "        vertical-align: top;\n",
       "    }\n",
       "\n",
       "    .dataframe thead th {\n",
       "        text-align: right;\n",
       "    }\n",
       "</style>\n",
       "<table border=\"1\" class=\"dataframe\">\n",
       "  <thead>\n",
       "    <tr style=\"text-align: right;\">\n",
       "      <th></th>\n",
       "      <th>question1</th>\n",
       "      <th>question2</th>\n",
       "    </tr>\n",
       "  </thead>\n",
       "  <tbody>\n",
       "    <tr>\n",
       "      <th>56339</th>\n",
       "      <td>Which is the song played in the advertisement ...</td>\n",
       "      <td>What is the Promotion Mix advertising?</td>\n",
       "    </tr>\n",
       "    <tr>\n",
       "      <th>198722</th>\n",
       "      <td>Where can I collect central bank cheque book?</td>\n",
       "      <td>What happens if you lose a bank draft cheque?</td>\n",
       "    </tr>\n",
       "    <tr>\n",
       "      <th>145018</th>\n",
       "      <td>India's huge population is a boon or bane?</td>\n",
       "      <td>Is population a boon or bane for India?</td>\n",
       "    </tr>\n",
       "    <tr>\n",
       "      <th>386586</th>\n",
       "      <td>Which is your favourite song?</td>\n",
       "      <td>Which one is your favourite song?</td>\n",
       "    </tr>\n",
       "    <tr>\n",
       "      <th>81383</th>\n",
       "      <td>Is there any way to travel faster than light s...</td>\n",
       "      <td>Is there any way to travel faster than light?</td>\n",
       "    </tr>\n",
       "    <tr>\n",
       "      <th>...</th>\n",
       "      <td>...</td>\n",
       "      <td>...</td>\n",
       "    </tr>\n",
       "    <tr>\n",
       "      <th>294073</th>\n",
       "      <td>What is the cost to create a hotel booking web...</td>\n",
       "      <td>How do I create a booking website?</td>\n",
       "    </tr>\n",
       "    <tr>\n",
       "      <th>336266</th>\n",
       "      <td>What are the best websites for learning C++?</td>\n",
       "      <td>Which is the best site to learn C/C++/algorithms?</td>\n",
       "    </tr>\n",
       "    <tr>\n",
       "      <th>290966</th>\n",
       "      <td>What is the difference between a headset and h...</td>\n",
       "      <td>How do I plug in a headphone cable in Procus O...</td>\n",
       "    </tr>\n",
       "    <tr>\n",
       "      <th>101805</th>\n",
       "      <td>What are some examples of satire in \"The Great...</td>\n",
       "      <td>What are some examples of satire in The Great ...</td>\n",
       "    </tr>\n",
       "    <tr>\n",
       "      <th>82187</th>\n",
       "      <td>What are job profiles offered after MS in Comp...</td>\n",
       "      <td>What job profile does a student get after comp...</td>\n",
       "    </tr>\n",
       "  </tbody>\n",
       "</table>\n",
       "<p>50000 rows × 2 columns</p>\n",
       "</div>"
      ],
      "text/plain": [
       "                                                question1  \\\n",
       "56339   Which is the song played in the advertisement ...   \n",
       "198722      Where can I collect central bank cheque book?   \n",
       "145018         India's huge population is a boon or bane?   \n",
       "386586                      Which is your favourite song?   \n",
       "81383   Is there any way to travel faster than light s...   \n",
       "...                                                   ...   \n",
       "294073  What is the cost to create a hotel booking web...   \n",
       "336266       What are the best websites for learning C++?   \n",
       "290966  What is the difference between a headset and h...   \n",
       "101805  What are some examples of satire in \"The Great...   \n",
       "82187   What are job profiles offered after MS in Comp...   \n",
       "\n",
       "                                                question2  \n",
       "56339              What is the Promotion Mix advertising?  \n",
       "198722      What happens if you lose a bank draft cheque?  \n",
       "145018            Is population a boon or bane for India?  \n",
       "386586                  Which one is your favourite song?  \n",
       "81383       Is there any way to travel faster than light?  \n",
       "...                                                   ...  \n",
       "294073                 How do I create a booking website?  \n",
       "336266  Which is the best site to learn C/C++/algorithms?  \n",
       "290966  How do I plug in a headphone cable in Procus O...  \n",
       "101805  What are some examples of satire in The Great ...  \n",
       "82187   What job profile does a student get after comp...  \n",
       "\n",
       "[50000 rows x 2 columns]"
      ]
     },
     "execution_count": 57,
     "metadata": {},
     "output_type": "execute_result"
    }
   ],
   "source": [
    "ques_df = new_df[['question1','question2']]\n",
    "ques_df"
   ]
  },
  {
   "cell_type": "code",
   "execution_count": 58,
   "metadata": {
    "execution": {
     "iopub.execute_input": "2023-01-09T04:09:16.877007Z",
     "iopub.status.busy": "2023-01-09T04:09:16.876648Z",
     "iopub.status.idle": "2023-01-09T04:09:16.968379Z",
     "shell.execute_reply": "2023-01-09T04:09:16.967358Z",
     "shell.execute_reply.started": "2023-01-09T04:09:16.876981Z"
    }
   },
   "outputs": [],
   "source": [
    "from sklearn.feature_extraction.text import CountVectorizer"
   ]
  },
  {
   "cell_type": "code",
   "execution_count": 59,
   "metadata": {
    "execution": {
     "iopub.execute_input": "2023-01-09T04:09:18.338196Z",
     "iopub.status.busy": "2023-01-09T04:09:18.337548Z",
     "iopub.status.idle": "2023-01-09T04:09:18.365274Z",
     "shell.execute_reply": "2023-01-09T04:09:18.364244Z",
     "shell.execute_reply.started": "2023-01-09T04:09:18.338167Z"
    }
   },
   "outputs": [],
   "source": [
    "questions = list(ques_df['question1']) + list(ques_df['question2'])"
   ]
  },
  {
   "cell_type": "code",
   "execution_count": 60,
   "metadata": {
    "execution": {
     "iopub.execute_input": "2023-01-09T04:09:20.732982Z",
     "iopub.status.busy": "2023-01-09T04:09:20.732633Z",
     "iopub.status.idle": "2023-01-09T04:09:20.737776Z",
     "shell.execute_reply": "2023-01-09T04:09:20.736714Z",
     "shell.execute_reply.started": "2023-01-09T04:09:20.732956Z"
    }
   },
   "outputs": [],
   "source": [
    "cv = CountVectorizer(max_features=5000)"
   ]
  },
  {
   "cell_type": "code",
   "execution_count": 61,
   "metadata": {
    "execution": {
     "iopub.execute_input": "2023-01-09T04:09:23.122872Z",
     "iopub.status.busy": "2023-01-09T04:09:23.122533Z",
     "iopub.status.idle": "2023-01-09T04:09:25.209519Z",
     "shell.execute_reply": "2023-01-09T04:09:25.207776Z",
     "shell.execute_reply.started": "2023-01-09T04:09:23.122847Z"
    }
   },
   "outputs": [],
   "source": [
    "q1_arr, q2_arr = np.vsplit(cv.fit_transform(questions).toarray(),2)"
   ]
  },
  {
   "cell_type": "code",
   "execution_count": 62,
   "metadata": {
    "execution": {
     "iopub.execute_input": "2023-01-09T04:09:25.211667Z",
     "iopub.status.busy": "2023-01-09T04:09:25.211375Z",
     "iopub.status.idle": "2023-01-09T04:09:33.218702Z",
     "shell.execute_reply": "2023-01-09T04:09:33.217343Z",
     "shell.execute_reply.started": "2023-01-09T04:09:25.211642Z"
    }
   },
   "outputs": [
    {
     "data": {
      "text/plain": [
       "(50000, 10000)"
      ]
     },
     "execution_count": 62,
     "metadata": {},
     "output_type": "execute_result"
    }
   ],
   "source": [
    "temp_df1 = pd.DataFrame(q1_arr, index= ques_df.index)\n",
    "temp_df2 = pd.DataFrame(q2_arr, index= ques_df.index)\n",
    "temp_df = pd.concat([temp_df1, temp_df2], axis= 1)\n",
    "temp_df.shape"
   ]
  },
  {
   "cell_type": "code",
   "execution_count": 63,
   "metadata": {
    "execution": {
     "iopub.execute_input": "2023-01-09T04:09:33.220149Z",
     "iopub.status.busy": "2023-01-09T04:09:33.219875Z",
     "iopub.status.idle": "2023-01-09T04:09:33.237053Z",
     "shell.execute_reply": "2023-01-09T04:09:33.235294Z",
     "shell.execute_reply.started": "2023-01-09T04:09:33.220122Z"
    }
   },
   "outputs": [],
   "source": [
    "temp_df['is_duplicate'] = new_df['is_duplicate']"
   ]
  },
  {
   "cell_type": "code",
   "execution_count": 64,
   "metadata": {
    "execution": {
     "iopub.execute_input": "2023-01-09T04:09:33.242174Z",
     "iopub.status.busy": "2023-01-09T04:09:33.240243Z",
     "iopub.status.idle": "2023-01-09T04:09:33.277872Z",
     "shell.execute_reply": "2023-01-09T04:09:33.276563Z",
     "shell.execute_reply.started": "2023-01-09T04:09:33.242115Z"
    }
   },
   "outputs": [
    {
     "data": {
      "text/html": [
       "<div>\n",
       "<style scoped>\n",
       "    .dataframe tbody tr th:only-of-type {\n",
       "        vertical-align: middle;\n",
       "    }\n",
       "\n",
       "    .dataframe tbody tr th {\n",
       "        vertical-align: top;\n",
       "    }\n",
       "\n",
       "    .dataframe thead th {\n",
       "        text-align: right;\n",
       "    }\n",
       "</style>\n",
       "<table border=\"1\" class=\"dataframe\">\n",
       "  <thead>\n",
       "    <tr style=\"text-align: right;\">\n",
       "      <th></th>\n",
       "      <th>0</th>\n",
       "      <th>1</th>\n",
       "      <th>2</th>\n",
       "      <th>3</th>\n",
       "      <th>4</th>\n",
       "      <th>5</th>\n",
       "      <th>6</th>\n",
       "      <th>7</th>\n",
       "      <th>8</th>\n",
       "      <th>9</th>\n",
       "      <th>...</th>\n",
       "      <th>4991</th>\n",
       "      <th>4992</th>\n",
       "      <th>4993</th>\n",
       "      <th>4994</th>\n",
       "      <th>4995</th>\n",
       "      <th>4996</th>\n",
       "      <th>4997</th>\n",
       "      <th>4998</th>\n",
       "      <th>4999</th>\n",
       "      <th>is_duplicate</th>\n",
       "    </tr>\n",
       "  </thead>\n",
       "  <tbody>\n",
       "    <tr>\n",
       "      <th>56339</th>\n",
       "      <td>0</td>\n",
       "      <td>0</td>\n",
       "      <td>0</td>\n",
       "      <td>0</td>\n",
       "      <td>0</td>\n",
       "      <td>0</td>\n",
       "      <td>0</td>\n",
       "      <td>0</td>\n",
       "      <td>0</td>\n",
       "      <td>0</td>\n",
       "      <td>...</td>\n",
       "      <td>0</td>\n",
       "      <td>0</td>\n",
       "      <td>0</td>\n",
       "      <td>0</td>\n",
       "      <td>0</td>\n",
       "      <td>0</td>\n",
       "      <td>0</td>\n",
       "      <td>0</td>\n",
       "      <td>0</td>\n",
       "      <td>0</td>\n",
       "    </tr>\n",
       "    <tr>\n",
       "      <th>198722</th>\n",
       "      <td>0</td>\n",
       "      <td>0</td>\n",
       "      <td>0</td>\n",
       "      <td>0</td>\n",
       "      <td>0</td>\n",
       "      <td>0</td>\n",
       "      <td>0</td>\n",
       "      <td>0</td>\n",
       "      <td>0</td>\n",
       "      <td>0</td>\n",
       "      <td>...</td>\n",
       "      <td>0</td>\n",
       "      <td>0</td>\n",
       "      <td>0</td>\n",
       "      <td>0</td>\n",
       "      <td>0</td>\n",
       "      <td>0</td>\n",
       "      <td>0</td>\n",
       "      <td>0</td>\n",
       "      <td>0</td>\n",
       "      <td>0</td>\n",
       "    </tr>\n",
       "    <tr>\n",
       "      <th>145018</th>\n",
       "      <td>0</td>\n",
       "      <td>0</td>\n",
       "      <td>0</td>\n",
       "      <td>0</td>\n",
       "      <td>0</td>\n",
       "      <td>0</td>\n",
       "      <td>0</td>\n",
       "      <td>0</td>\n",
       "      <td>0</td>\n",
       "      <td>0</td>\n",
       "      <td>...</td>\n",
       "      <td>0</td>\n",
       "      <td>0</td>\n",
       "      <td>0</td>\n",
       "      <td>0</td>\n",
       "      <td>0</td>\n",
       "      <td>0</td>\n",
       "      <td>0</td>\n",
       "      <td>0</td>\n",
       "      <td>0</td>\n",
       "      <td>1</td>\n",
       "    </tr>\n",
       "    <tr>\n",
       "      <th>386586</th>\n",
       "      <td>0</td>\n",
       "      <td>0</td>\n",
       "      <td>0</td>\n",
       "      <td>0</td>\n",
       "      <td>0</td>\n",
       "      <td>0</td>\n",
       "      <td>0</td>\n",
       "      <td>0</td>\n",
       "      <td>0</td>\n",
       "      <td>0</td>\n",
       "      <td>...</td>\n",
       "      <td>0</td>\n",
       "      <td>0</td>\n",
       "      <td>0</td>\n",
       "      <td>0</td>\n",
       "      <td>0</td>\n",
       "      <td>0</td>\n",
       "      <td>0</td>\n",
       "      <td>0</td>\n",
       "      <td>0</td>\n",
       "      <td>1</td>\n",
       "    </tr>\n",
       "    <tr>\n",
       "      <th>81383</th>\n",
       "      <td>0</td>\n",
       "      <td>0</td>\n",
       "      <td>0</td>\n",
       "      <td>0</td>\n",
       "      <td>0</td>\n",
       "      <td>0</td>\n",
       "      <td>0</td>\n",
       "      <td>0</td>\n",
       "      <td>0</td>\n",
       "      <td>0</td>\n",
       "      <td>...</td>\n",
       "      <td>0</td>\n",
       "      <td>0</td>\n",
       "      <td>0</td>\n",
       "      <td>0</td>\n",
       "      <td>0</td>\n",
       "      <td>0</td>\n",
       "      <td>0</td>\n",
       "      <td>0</td>\n",
       "      <td>0</td>\n",
       "      <td>1</td>\n",
       "    </tr>\n",
       "    <tr>\n",
       "      <th>...</th>\n",
       "      <td>...</td>\n",
       "      <td>...</td>\n",
       "      <td>...</td>\n",
       "      <td>...</td>\n",
       "      <td>...</td>\n",
       "      <td>...</td>\n",
       "      <td>...</td>\n",
       "      <td>...</td>\n",
       "      <td>...</td>\n",
       "      <td>...</td>\n",
       "      <td>...</td>\n",
       "      <td>...</td>\n",
       "      <td>...</td>\n",
       "      <td>...</td>\n",
       "      <td>...</td>\n",
       "      <td>...</td>\n",
       "      <td>...</td>\n",
       "      <td>...</td>\n",
       "      <td>...</td>\n",
       "      <td>...</td>\n",
       "      <td>...</td>\n",
       "    </tr>\n",
       "    <tr>\n",
       "      <th>294073</th>\n",
       "      <td>0</td>\n",
       "      <td>0</td>\n",
       "      <td>0</td>\n",
       "      <td>0</td>\n",
       "      <td>0</td>\n",
       "      <td>0</td>\n",
       "      <td>0</td>\n",
       "      <td>0</td>\n",
       "      <td>0</td>\n",
       "      <td>0</td>\n",
       "      <td>...</td>\n",
       "      <td>0</td>\n",
       "      <td>0</td>\n",
       "      <td>0</td>\n",
       "      <td>0</td>\n",
       "      <td>0</td>\n",
       "      <td>0</td>\n",
       "      <td>0</td>\n",
       "      <td>0</td>\n",
       "      <td>0</td>\n",
       "      <td>0</td>\n",
       "    </tr>\n",
       "    <tr>\n",
       "      <th>336266</th>\n",
       "      <td>0</td>\n",
       "      <td>0</td>\n",
       "      <td>0</td>\n",
       "      <td>0</td>\n",
       "      <td>0</td>\n",
       "      <td>0</td>\n",
       "      <td>0</td>\n",
       "      <td>0</td>\n",
       "      <td>0</td>\n",
       "      <td>0</td>\n",
       "      <td>...</td>\n",
       "      <td>0</td>\n",
       "      <td>0</td>\n",
       "      <td>0</td>\n",
       "      <td>0</td>\n",
       "      <td>0</td>\n",
       "      <td>0</td>\n",
       "      <td>0</td>\n",
       "      <td>0</td>\n",
       "      <td>0</td>\n",
       "      <td>0</td>\n",
       "    </tr>\n",
       "    <tr>\n",
       "      <th>290966</th>\n",
       "      <td>0</td>\n",
       "      <td>0</td>\n",
       "      <td>0</td>\n",
       "      <td>0</td>\n",
       "      <td>0</td>\n",
       "      <td>0</td>\n",
       "      <td>0</td>\n",
       "      <td>0</td>\n",
       "      <td>0</td>\n",
       "      <td>0</td>\n",
       "      <td>...</td>\n",
       "      <td>0</td>\n",
       "      <td>0</td>\n",
       "      <td>0</td>\n",
       "      <td>0</td>\n",
       "      <td>0</td>\n",
       "      <td>0</td>\n",
       "      <td>0</td>\n",
       "      <td>0</td>\n",
       "      <td>0</td>\n",
       "      <td>0</td>\n",
       "    </tr>\n",
       "    <tr>\n",
       "      <th>101805</th>\n",
       "      <td>0</td>\n",
       "      <td>0</td>\n",
       "      <td>0</td>\n",
       "      <td>0</td>\n",
       "      <td>0</td>\n",
       "      <td>0</td>\n",
       "      <td>0</td>\n",
       "      <td>0</td>\n",
       "      <td>0</td>\n",
       "      <td>0</td>\n",
       "      <td>...</td>\n",
       "      <td>0</td>\n",
       "      <td>0</td>\n",
       "      <td>0</td>\n",
       "      <td>0</td>\n",
       "      <td>0</td>\n",
       "      <td>0</td>\n",
       "      <td>0</td>\n",
       "      <td>0</td>\n",
       "      <td>0</td>\n",
       "      <td>1</td>\n",
       "    </tr>\n",
       "    <tr>\n",
       "      <th>82187</th>\n",
       "      <td>0</td>\n",
       "      <td>0</td>\n",
       "      <td>0</td>\n",
       "      <td>0</td>\n",
       "      <td>0</td>\n",
       "      <td>0</td>\n",
       "      <td>0</td>\n",
       "      <td>0</td>\n",
       "      <td>0</td>\n",
       "      <td>0</td>\n",
       "      <td>...</td>\n",
       "      <td>0</td>\n",
       "      <td>0</td>\n",
       "      <td>0</td>\n",
       "      <td>0</td>\n",
       "      <td>0</td>\n",
       "      <td>0</td>\n",
       "      <td>0</td>\n",
       "      <td>0</td>\n",
       "      <td>0</td>\n",
       "      <td>1</td>\n",
       "    </tr>\n",
       "  </tbody>\n",
       "</table>\n",
       "<p>50000 rows × 10001 columns</p>\n",
       "</div>"
      ],
      "text/plain": [
       "        0  1  2  3  4  5  6  7  8  9  ...  4991  4992  4993  4994  4995  4996  \\\n",
       "56339   0  0  0  0  0  0  0  0  0  0  ...     0     0     0     0     0     0   \n",
       "198722  0  0  0  0  0  0  0  0  0  0  ...     0     0     0     0     0     0   \n",
       "145018  0  0  0  0  0  0  0  0  0  0  ...     0     0     0     0     0     0   \n",
       "386586  0  0  0  0  0  0  0  0  0  0  ...     0     0     0     0     0     0   \n",
       "81383   0  0  0  0  0  0  0  0  0  0  ...     0     0     0     0     0     0   \n",
       "...    .. .. .. .. .. .. .. .. .. ..  ...   ...   ...   ...   ...   ...   ...   \n",
       "294073  0  0  0  0  0  0  0  0  0  0  ...     0     0     0     0     0     0   \n",
       "336266  0  0  0  0  0  0  0  0  0  0  ...     0     0     0     0     0     0   \n",
       "290966  0  0  0  0  0  0  0  0  0  0  ...     0     0     0     0     0     0   \n",
       "101805  0  0  0  0  0  0  0  0  0  0  ...     0     0     0     0     0     0   \n",
       "82187   0  0  0  0  0  0  0  0  0  0  ...     0     0     0     0     0     0   \n",
       "\n",
       "        4997  4998  4999  is_duplicate  \n",
       "56339      0     0     0             0  \n",
       "198722     0     0     0             0  \n",
       "145018     0     0     0             1  \n",
       "386586     0     0     0             1  \n",
       "81383      0     0     0             1  \n",
       "...      ...   ...   ...           ...  \n",
       "294073     0     0     0             0  \n",
       "336266     0     0     0             0  \n",
       "290966     0     0     0             0  \n",
       "101805     0     0     0             1  \n",
       "82187      0     0     0             1  \n",
       "\n",
       "[50000 rows x 10001 columns]"
      ]
     },
     "execution_count": 64,
     "metadata": {},
     "output_type": "execute_result"
    }
   ],
   "source": [
    "temp_df"
   ]
  },
  {
   "cell_type": "code",
   "execution_count": 65,
   "metadata": {
    "execution": {
     "iopub.execute_input": "2023-01-09T04:09:33.280514Z",
     "iopub.status.busy": "2023-01-09T04:09:33.280173Z",
     "iopub.status.idle": "2023-01-09T04:09:33.285624Z",
     "shell.execute_reply": "2023-01-09T04:09:33.284451Z",
     "shell.execute_reply.started": "2023-01-09T04:09:33.280489Z"
    }
   },
   "outputs": [],
   "source": [
    "from sklearn.model_selection import train_test_split"
   ]
  },
  {
   "cell_type": "code",
   "execution_count": 66,
   "metadata": {
    "execution": {
     "iopub.execute_input": "2023-01-09T04:09:33.287297Z",
     "iopub.status.busy": "2023-01-09T04:09:33.286994Z",
     "iopub.status.idle": "2023-01-09T04:09:42.308645Z",
     "shell.execute_reply": "2023-01-09T04:09:42.297294Z",
     "shell.execute_reply.started": "2023-01-09T04:09:33.287271Z"
    }
   },
   "outputs": [],
   "source": [
    "X_train, X_test, y_train, y_test = train_test_split(temp_df.iloc[:,:-1].values, temp_df.iloc[:,-1].values, test_size = 0.25, random_state=100)"
   ]
  },
  {
   "cell_type": "code",
   "execution_count": 67,
   "metadata": {
    "execution": {
     "iopub.execute_input": "2023-01-09T04:09:42.311455Z",
     "iopub.status.busy": "2023-01-09T04:09:42.311074Z",
     "iopub.status.idle": "2023-01-09T04:09:42.833939Z",
     "shell.execute_reply": "2023-01-09T04:09:42.832048Z",
     "shell.execute_reply.started": "2023-01-09T04:09:42.311429Z"
    }
   },
   "outputs": [],
   "source": [
    "from sklearn.ensemble import RandomForestClassifier\n",
    "from sklearn.metrics import accuracy_score"
   ]
  },
  {
   "cell_type": "code",
   "execution_count": null,
   "metadata": {
    "execution": {
     "iopub.status.busy": "2023-01-09T04:07:56.959788Z",
     "iopub.status.idle": "2023-01-09T04:07:56.960127Z",
     "shell.execute_reply": "2023-01-09T04:07:56.959956Z",
     "shell.execute_reply.started": "2023-01-09T04:07:56.959941Z"
    }
   },
   "outputs": [],
   "source": [
    "rf = RandomForestClassifier()\n",
    "rf.fit(X_train,y_train)"
   ]
  },
  {
   "cell_type": "code",
   "execution_count": null,
   "metadata": {
    "execution": {
     "iopub.status.busy": "2023-01-07T15:56:55.989083Z",
     "iopub.status.idle": "2023-01-07T15:56:55.989442Z",
     "shell.execute_reply": "2023-01-07T15:56:55.989283Z",
     "shell.execute_reply.started": "2023-01-07T15:56:55.989266Z"
    }
   },
   "outputs": [],
   "source": [
    "y_pred = rf.predict(X_test)"
   ]
  },
  {
   "cell_type": "code",
   "execution_count": null,
   "metadata": {
    "execution": {
     "iopub.status.busy": "2023-01-07T15:56:55.990972Z",
     "iopub.status.idle": "2023-01-07T15:56:55.991331Z",
     "shell.execute_reply": "2023-01-07T15:56:55.991172Z",
     "shell.execute_reply.started": "2023-01-07T15:56:55.991156Z"
    }
   },
   "outputs": [],
   "source": [
    "accuracy_score(y_test, y_pred)"
   ]
  },
  {
   "cell_type": "code",
   "execution_count": null,
   "metadata": {
    "execution": {
     "iopub.status.busy": "2023-01-07T15:56:55.992800Z",
     "iopub.status.idle": "2023-01-07T15:56:55.993686Z",
     "shell.execute_reply": "2023-01-07T15:56:55.993389Z",
     "shell.execute_reply.started": "2023-01-07T15:56:55.993358Z"
    }
   },
   "outputs": [],
   "source": [
    "from sklearn.naive_bayes import GaussianNB\n",
    "classifier = GaussianNB()\n",
    "classifier.fit(X_train, y_train)\n",
    "y_pred = classifier.predict(X_test)\n",
    "accuracy_score(y_test, y_pred)"
   ]
  },
  {
   "cell_type": "code",
   "execution_count": 29,
   "metadata": {
    "execution": {
     "iopub.status.busy": "2023-01-07T15:56:55.995398Z",
     "iopub.status.idle": "2023-01-07T15:56:55.996491Z",
     "shell.execute_reply": "2023-01-07T15:56:55.996223Z",
     "shell.execute_reply.started": "2023-01-07T15:56:55.996191Z"
    }
   },
   "outputs": [
    {
     "ename": "ModuleNotFoundError",
     "evalue": "No module named 'xgboost'",
     "output_type": "error",
     "traceback": [
      "\u001b[1;31m---------------------------------------------------------------------------\u001b[0m",
      "\u001b[1;31mModuleNotFoundError\u001b[0m                       Traceback (most recent call last)",
      "Input \u001b[1;32mIn [29]\u001b[0m, in \u001b[0;36m<cell line: 1>\u001b[1;34m()\u001b[0m\n\u001b[1;32m----> 1\u001b[0m \u001b[38;5;28;01mfrom\u001b[39;00m \u001b[38;5;21;01mxgboost\u001b[39;00m \u001b[38;5;28;01mimport\u001b[39;00m XGBClassifier\n\u001b[0;32m      2\u001b[0m xgb \u001b[38;5;241m=\u001b[39m XGBClassifier()\n\u001b[0;32m      3\u001b[0m xgb\u001b[38;5;241m.\u001b[39mfit(X_train, y_train)\n",
      "\u001b[1;31mModuleNotFoundError\u001b[0m: No module named 'xgboost'"
     ]
    }
   ],
   "source": [
    "from xgboost import XGBClassifier\n",
    "xgb = XGBClassifier()\n",
    "xgb.fit(X_train, y_train)\n",
    "y_pred = xgb.predict(X_test)\n",
    "accuracy_score(y_test, y_pred)"
   ]
  },
  {
   "cell_type": "code",
   "execution_count": 30,
   "metadata": {
    "execution": {
     "iopub.execute_input": "2023-01-09T04:09:43.271760Z",
     "iopub.status.busy": "2023-01-09T04:09:43.271452Z",
     "iopub.status.idle": "2023-01-09T04:09:43.286819Z",
     "shell.execute_reply": "2023-01-09T04:09:43.284923Z",
     "shell.execute_reply.started": "2023-01-09T04:09:43.271736Z"
    }
   },
   "outputs": [
    {
     "data": {
      "text/plain": [
       "question1           Does playing chess improve logical thinking?\n",
       "question2       How does playing chess improve logical thinking?\n",
       "is_duplicate                                                   1\n",
       "Name: 302568, dtype: object"
      ]
     },
     "execution_count": 30,
     "metadata": {},
     "output_type": "execute_result"
    }
   ],
   "source": [
    "new_df[['question1','question2','is_duplicate']].iloc[4]"
   ]
  },
  {
   "cell_type": "code",
   "execution_count": 31,
   "metadata": {
    "execution": {
     "iopub.execute_input": "2023-01-09T04:09:43.785562Z",
     "iopub.status.busy": "2023-01-09T04:09:43.785206Z",
     "iopub.status.idle": "2023-01-09T04:09:43.806174Z",
     "shell.execute_reply": "2023-01-09T04:09:43.804507Z",
     "shell.execute_reply.started": "2023-01-09T04:09:43.785537Z"
    }
   },
   "outputs": [],
   "source": [
    "def preprocess(q):\n",
    "    \n",
    "    q = str(q).lower().strip()\n",
    "    \n",
    "    # Replace certain special characters with their string equivalents\n",
    "    q = q.replace('%', ' percent')\n",
    "    q = q.replace('$', ' dollar ')\n",
    "    q = q.replace('₹', ' rupee ')\n",
    "    q = q.replace('€', ' euro ')\n",
    "    q = q.replace('@', ' at ')\n",
    "    \n",
    "    # The pattern '[math]' appears around 900 times in the whole dataset.\n",
    "    q = q.replace('[math]', '')\n",
    "    \n",
    "    # Replacing some numbers with string equivalents (not perfect, can be done better to account for more cases)\n",
    "    q = q.replace(',000,000,000 ', 'b ')\n",
    "    q = q.replace(',000,000 ', 'm ')\n",
    "    q = q.replace(',000 ', 'k ')\n",
    "    q = re.sub(r'([0-9]+)000000000', r'\\1b', q)\n",
    "    q = re.sub(r'([0-9]+)000000', r'\\1m', q)\n",
    "    q = re.sub(r'([0-9]+)000', r'\\1k', q)\n",
    "    \n",
    "    # Decontracting words\n",
    "    # https://en.wikipedia.org/wiki/Wikipedia%3aList_of_English_contractions\n",
    "    # https://stackoverflow.com/a/19794953\n",
    "    contractions = { \n",
    "    \"ain't\": \"am not\",\n",
    "    \"aren't\": \"are not\",\n",
    "    \"can't\": \"can not\",\n",
    "    \"can't've\": \"can not have\",\n",
    "    \"'cause\": \"because\",\n",
    "    \"could've\": \"could have\",\n",
    "    \"couldn't\": \"could not\",\n",
    "    \"couldn't've\": \"could not have\",\n",
    "    \"didn't\": \"did not\",\n",
    "    \"doesn't\": \"does not\",\n",
    "    \"don't\": \"do not\",\n",
    "    \"hadn't\": \"had not\",\n",
    "    \"hadn't've\": \"had not have\",\n",
    "    \"hasn't\": \"has not\",\n",
    "    \"haven't\": \"have not\",\n",
    "    \"he'd\": \"he would\",\n",
    "    \"he'd've\": \"he would have\",\n",
    "    \"he'll\": \"he will\",\n",
    "    \"he'll've\": \"he will have\",\n",
    "    \"he's\": \"he is\",\n",
    "    \"how'd\": \"how did\",\n",
    "    \"how'd'y\": \"how do you\",\n",
    "    \"how'll\": \"how will\",\n",
    "    \"how's\": \"how is\",\n",
    "    \"i'd\": \"i would\",\n",
    "    \"i'd've\": \"i would have\",\n",
    "    \"i'll\": \"i will\",\n",
    "    \"i'll've\": \"i will have\",\n",
    "    \"i'm\": \"i am\",\n",
    "    \"i've\": \"i have\",\n",
    "    \"isn't\": \"is not\",\n",
    "    \"it'd\": \"it would\",\n",
    "    \"it'd've\": \"it would have\",\n",
    "    \"it'll\": \"it will\",\n",
    "    \"it'll've\": \"it will have\",\n",
    "    \"it's\": \"it is\",\n",
    "    \"let's\": \"let us\",\n",
    "    \"ma'am\": \"madam\",\n",
    "    \"mayn't\": \"may not\",\n",
    "    \"might've\": \"might have\",\n",
    "    \"mightn't\": \"might not\",\n",
    "    \"mightn't've\": \"might not have\",\n",
    "    \"must've\": \"must have\",\n",
    "    \"mustn't\": \"must not\",\n",
    "    \"mustn't've\": \"must not have\",\n",
    "    \"needn't\": \"need not\",\n",
    "    \"needn't've\": \"need not have\",\n",
    "    \"o'clock\": \"of the clock\",\n",
    "    \"oughtn't\": \"ought not\",\n",
    "    \"oughtn't've\": \"ought not have\",\n",
    "    \"shan't\": \"shall not\",\n",
    "    \"sha'n't\": \"shall not\",\n",
    "    \"shan't've\": \"shall not have\",\n",
    "    \"she'd\": \"she would\",\n",
    "    \"she'd've\": \"she would have\",\n",
    "    \"she'll\": \"she will\",\n",
    "    \"she'll've\": \"she will have\",\n",
    "    \"she's\": \"she is\",\n",
    "    \"should've\": \"should have\",\n",
    "    \"shouldn't\": \"should not\",\n",
    "    \"shouldn't've\": \"should not have\",\n",
    "    \"so've\": \"so have\",\n",
    "    \"so's\": \"so as\",\n",
    "    \"that'd\": \"that would\",\n",
    "    \"that'd've\": \"that would have\",\n",
    "    \"that's\": \"that is\",\n",
    "    \"there'd\": \"there would\",\n",
    "    \"there'd've\": \"there would have\",\n",
    "    \"there's\": \"there is\",\n",
    "    \"they'd\": \"they would\",\n",
    "    \"they'd've\": \"they would have\",\n",
    "    \"they'll\": \"they will\",\n",
    "    \"they'll've\": \"they will have\",\n",
    "    \"they're\": \"they are\",\n",
    "    \"they've\": \"they have\",\n",
    "    \"to've\": \"to have\",\n",
    "    \"wasn't\": \"was not\",\n",
    "    \"we'd\": \"we would\",\n",
    "    \"we'd've\": \"we would have\",\n",
    "    \"we'll\": \"we will\",\n",
    "    \"we'll've\": \"we will have\",\n",
    "    \"we're\": \"we are\",\n",
    "    \"we've\": \"we have\",\n",
    "    \"weren't\": \"were not\",\n",
    "    \"what'll\": \"what will\",\n",
    "    \"what'll've\": \"what will have\",\n",
    "    \"what're\": \"what are\",\n",
    "    \"what's\": \"what is\",\n",
    "    \"what've\": \"what have\",\n",
    "    \"when's\": \"when is\",\n",
    "    \"when've\": \"when have\",\n",
    "    \"where'd\": \"where did\",\n",
    "    \"where's\": \"where is\",\n",
    "    \"where've\": \"where have\",\n",
    "    \"who'll\": \"who will\",\n",
    "    \"who'll've\": \"who will have\",\n",
    "    \"who's\": \"who is\",\n",
    "    \"who've\": \"who have\",\n",
    "    \"why's\": \"why is\",\n",
    "    \"why've\": \"why have\",\n",
    "    \"will've\": \"will have\",\n",
    "    \"won't\": \"will not\",\n",
    "    \"won't've\": \"will not have\",\n",
    "    \"would've\": \"would have\",\n",
    "    \"wouldn't\": \"would not\",\n",
    "    \"wouldn't've\": \"would not have\",\n",
    "    \"y'all\": \"you all\",\n",
    "    \"y'all'd\": \"you all would\",\n",
    "    \"y'all'd've\": \"you all would have\",\n",
    "    \"y'all're\": \"you all are\",\n",
    "    \"y'all've\": \"you all have\",\n",
    "    \"you'd\": \"you would\",\n",
    "    \"you'd've\": \"you would have\",\n",
    "    \"you'll\": \"you will\",\n",
    "    \"you'll've\": \"you will have\",\n",
    "    \"you're\": \"you are\",\n",
    "    \"you've\": \"you have\"\n",
    "    }\n",
    "\n",
    "    q_decontracted = []\n",
    "\n",
    "    for word in q.split():\n",
    "        if word in contractions:\n",
    "            word = contractions[word]\n",
    "\n",
    "        q_decontracted.append(word)\n",
    "\n",
    "    q = ' '.join(q_decontracted)\n",
    "    q = q.replace(\"'ve\", \" have\")\n",
    "    q = q.replace(\"n't\", \" not\")\n",
    "    q = q.replace(\"'re\", \" are\")\n",
    "    q = q.replace(\"'ll\", \" will\")\n",
    "    \n",
    "    # Removing HTML tags\n",
    "    q = BeautifulSoup(q)\n",
    "    q = q.get_text()\n",
    "    \n",
    "    # Remove punctuations\n",
    "    pattern = re.compile('\\W')\n",
    "    q = re.sub(pattern, ' ', q).strip()\n",
    "\n",
    "    \n",
    "    return q"
   ]
  },
  {
   "cell_type": "code",
   "execution_count": 32,
   "metadata": {
    "execution": {
     "iopub.execute_input": "2023-01-09T04:09:44.637912Z",
     "iopub.status.busy": "2023-01-09T04:09:44.637572Z",
     "iopub.status.idle": "2023-01-09T04:10:09.780514Z",
     "shell.execute_reply": "2023-01-09T04:10:09.779519Z",
     "shell.execute_reply.started": "2023-01-09T04:09:44.637884Z"
    }
   },
   "outputs": [
    {
     "name": "stderr",
     "output_type": "stream",
     "text": [
      "C:\\Users\\Dell\\anaconda3\\lib\\site-packages\\bs4\\__init__.py:435: MarkupResemblesLocatorWarning: The input looks more like a filename than markup. You may want to open this file and pass the filehandle into Beautiful Soup.\n",
      "  warnings.warn(\n"
     ]
    }
   ],
   "source": [
    "new_df['question1'] = new_df['question1'].apply(preprocess)\n",
    "new_df['question2'] = new_df['question2'].apply(preprocess)"
   ]
  },
  {
   "cell_type": "code",
   "execution_count": 33,
   "metadata": {
    "execution": {
     "iopub.execute_input": "2023-01-09T04:10:09.783975Z",
     "iopub.status.busy": "2023-01-09T04:10:09.783564Z",
     "iopub.status.idle": "2023-01-09T04:10:09.852666Z",
     "shell.execute_reply": "2023-01-09T04:10:09.851635Z",
     "shell.execute_reply.started": "2023-01-09T04:10:09.783934Z"
    }
   },
   "outputs": [],
   "source": [
    "new_df['q1_len'] = new_df['question1'].str.len() \n",
    "new_df['q2_len'] = new_df['question2'].str.len()"
   ]
  },
  {
   "cell_type": "code",
   "execution_count": 34,
   "metadata": {
    "execution": {
     "iopub.execute_input": "2023-01-09T04:10:09.856623Z",
     "iopub.status.busy": "2023-01-09T04:10:09.855037Z",
     "iopub.status.idle": "2023-01-09T04:10:09.961957Z",
     "shell.execute_reply": "2023-01-09T04:10:09.960816Z",
     "shell.execute_reply.started": "2023-01-09T04:10:09.856560Z"
    }
   },
   "outputs": [],
   "source": [
    "new_df['q1_num_words'] = new_df['question1'].apply(lambda row: len(row.split(\" \")))\n",
    "new_df['q2_num_words'] = new_df['question2'].apply(lambda row: len(row.split(\" \")))"
   ]
  },
  {
   "cell_type": "code",
   "execution_count": 35,
   "metadata": {
    "execution": {
     "iopub.execute_input": "2023-01-09T04:10:09.964826Z",
     "iopub.status.busy": "2023-01-09T04:10:09.964549Z",
     "iopub.status.idle": "2023-01-09T04:10:09.971368Z",
     "shell.execute_reply": "2023-01-09T04:10:09.970129Z",
     "shell.execute_reply.started": "2023-01-09T04:10:09.964803Z"
    }
   },
   "outputs": [],
   "source": [
    "def common_words(row):\n",
    "    w1 = set(map(lambda word: word.lower().strip(), row['question1'].split(\" \")))\n",
    "    w2 = set(map(lambda word: word.lower().strip(), row['question2'].split(\" \")))    \n",
    "    return len(w1 & w2)"
   ]
  },
  {
   "cell_type": "code",
   "execution_count": 36,
   "metadata": {
    "execution": {
     "iopub.execute_input": "2023-01-09T04:10:09.973057Z",
     "iopub.status.busy": "2023-01-09T04:10:09.972723Z",
     "iopub.status.idle": "2023-01-09T04:10:11.155413Z",
     "shell.execute_reply": "2023-01-09T04:10:11.153388Z",
     "shell.execute_reply.started": "2023-01-09T04:10:09.973026Z"
    }
   },
   "outputs": [],
   "source": [
    "new_df['word_common'] = new_df.apply(common_words, axis=1)\n"
   ]
  },
  {
   "cell_type": "code",
   "execution_count": 37,
   "metadata": {
    "execution": {
     "iopub.execute_input": "2023-01-09T04:10:11.158169Z",
     "iopub.status.busy": "2023-01-09T04:10:11.157709Z",
     "iopub.status.idle": "2023-01-09T04:10:11.166535Z",
     "shell.execute_reply": "2023-01-09T04:10:11.165040Z",
     "shell.execute_reply.started": "2023-01-09T04:10:11.158134Z"
    }
   },
   "outputs": [],
   "source": [
    "def total_words(row):\n",
    "    w1 = set(map(lambda word: word.lower().strip(), row['question1'].split(\" \")))\n",
    "    w2 = set(map(lambda word: word.lower().strip(), row['question2'].split(\" \")))    \n",
    "    return (len(w1) + len(w2))"
   ]
  },
  {
   "cell_type": "code",
   "execution_count": 50,
   "metadata": {
    "execution": {
     "iopub.execute_input": "2023-01-09T04:10:11.168624Z",
     "iopub.status.busy": "2023-01-09T04:10:11.168252Z",
     "iopub.status.idle": "2023-01-09T04:10:12.357100Z",
     "shell.execute_reply": "2023-01-09T04:10:12.355521Z",
     "shell.execute_reply.started": "2023-01-09T04:10:11.168593Z"
    }
   },
   "outputs": [],
   "source": [
    "new_df['word_total'] = new_df.apply(total_words, axis=1)\n"
   ]
  },
  {
   "cell_type": "code",
   "execution_count": 51,
   "metadata": {
    "execution": {
     "iopub.execute_input": "2023-01-09T04:10:12.358555Z",
     "iopub.status.busy": "2023-01-09T04:10:12.358334Z",
     "iopub.status.idle": "2023-01-09T04:10:12.363925Z",
     "shell.execute_reply": "2023-01-09T04:10:12.363276Z",
     "shell.execute_reply.started": "2023-01-09T04:10:12.358533Z"
    }
   },
   "outputs": [],
   "source": [
    "new_df['word_share'] = round(new_df['word_common']/new_df['word_total'],2)\n"
   ]
  },
  {
   "cell_type": "code",
   "execution_count": 78,
   "metadata": {
    "execution": {
     "iopub.execute_input": "2023-01-09T04:52:36.315963Z",
     "iopub.status.busy": "2023-01-09T04:52:36.315602Z",
     "iopub.status.idle": "2023-01-09T04:52:36.337367Z",
     "shell.execute_reply": "2023-01-09T04:52:36.335574Z",
     "shell.execute_reply.started": "2023-01-09T04:52:36.315938Z"
    }
   },
   "outputs": [
    {
     "data": {
      "text/html": [
       "<div>\n",
       "<style scoped>\n",
       "    .dataframe tbody tr th:only-of-type {\n",
       "        vertical-align: middle;\n",
       "    }\n",
       "\n",
       "    .dataframe tbody tr th {\n",
       "        vertical-align: top;\n",
       "    }\n",
       "\n",
       "    .dataframe thead th {\n",
       "        text-align: right;\n",
       "    }\n",
       "</style>\n",
       "<table border=\"1\" class=\"dataframe\">\n",
       "  <thead>\n",
       "    <tr style=\"text-align: right;\">\n",
       "      <th></th>\n",
       "      <th>id</th>\n",
       "      <th>qid1</th>\n",
       "      <th>qid2</th>\n",
       "      <th>question1</th>\n",
       "      <th>question2</th>\n",
       "      <th>is_duplicate</th>\n",
       "      <th>q1_len</th>\n",
       "      <th>q2_len</th>\n",
       "      <th>q1_num_words</th>\n",
       "      <th>q2_num_words</th>\n",
       "      <th>word_common</th>\n",
       "      <th>word_total</th>\n",
       "      <th>word_share</th>\n",
       "    </tr>\n",
       "  </thead>\n",
       "  <tbody>\n",
       "    <tr>\n",
       "      <th>231143</th>\n",
       "      <td>231143</td>\n",
       "      <td>340876</td>\n",
       "      <td>340877</td>\n",
       "      <td>what is the peaceful and stressless job in it ...</td>\n",
       "      <td>can i rejoin it sector after quitting my bank job</td>\n",
       "      <td>0</td>\n",
       "      <td>52</td>\n",
       "      <td>49</td>\n",
       "      <td>10</td>\n",
       "      <td>10</td>\n",
       "      <td>3</td>\n",
       "      <td>20</td>\n",
       "      <td>0.15</td>\n",
       "    </tr>\n",
       "    <tr>\n",
       "      <th>270514</th>\n",
       "      <td>270514</td>\n",
       "      <td>388419</td>\n",
       "      <td>388420</td>\n",
       "      <td>how do porn stars prepare for anal sex</td>\n",
       "      <td>how do porn stars not get feces on their penis...</td>\n",
       "      <td>0</td>\n",
       "      <td>38</td>\n",
       "      <td>69</td>\n",
       "      <td>8</td>\n",
       "      <td>14</td>\n",
       "      <td>6</td>\n",
       "      <td>22</td>\n",
       "      <td>0.27</td>\n",
       "    </tr>\n",
       "    <tr>\n",
       "      <th>85404</th>\n",
       "      <td>85404</td>\n",
       "      <td>144202</td>\n",
       "      <td>38854</td>\n",
       "      <td>is our universe expanding</td>\n",
       "      <td>what are the proofs of scientists that the uni...</td>\n",
       "      <td>1</td>\n",
       "      <td>25</td>\n",
       "      <td>64</td>\n",
       "      <td>4</td>\n",
       "      <td>11</td>\n",
       "      <td>3</td>\n",
       "      <td>14</td>\n",
       "      <td>0.21</td>\n",
       "    </tr>\n",
       "    <tr>\n",
       "      <th>152954</th>\n",
       "      <td>152954</td>\n",
       "      <td>94471</td>\n",
       "      <td>240202</td>\n",
       "      <td>was the suicide squad movie good in your opinion</td>\n",
       "      <td>how is the movie  suicide squad</td>\n",
       "      <td>1</td>\n",
       "      <td>48</td>\n",
       "      <td>31</td>\n",
       "      <td>9</td>\n",
       "      <td>7</td>\n",
       "      <td>4</td>\n",
       "      <td>16</td>\n",
       "      <td>0.25</td>\n",
       "    </tr>\n",
       "    <tr>\n",
       "      <th>111433</th>\n",
       "      <td>111433</td>\n",
       "      <td>182517</td>\n",
       "      <td>59130</td>\n",
       "      <td>how can i get free itunes gift cards</td>\n",
       "      <td>how can i get free itunes gift cards online</td>\n",
       "      <td>1</td>\n",
       "      <td>36</td>\n",
       "      <td>43</td>\n",
       "      <td>8</td>\n",
       "      <td>9</td>\n",
       "      <td>8</td>\n",
       "      <td>17</td>\n",
       "      <td>0.47</td>\n",
       "    </tr>\n",
       "    <tr>\n",
       "      <th>...</th>\n",
       "      <td>...</td>\n",
       "      <td>...</td>\n",
       "      <td>...</td>\n",
       "      <td>...</td>\n",
       "      <td>...</td>\n",
       "      <td>...</td>\n",
       "      <td>...</td>\n",
       "      <td>...</td>\n",
       "      <td>...</td>\n",
       "      <td>...</td>\n",
       "      <td>...</td>\n",
       "      <td>...</td>\n",
       "      <td>...</td>\n",
       "    </tr>\n",
       "    <tr>\n",
       "      <th>376374</th>\n",
       "      <td>376374</td>\n",
       "      <td>507500</td>\n",
       "      <td>507501</td>\n",
       "      <td>can someone  selected officers  write a civil ...</td>\n",
       "      <td>what can india do for the world  write an essay</td>\n",
       "      <td>0</td>\n",
       "      <td>168</td>\n",
       "      <td>47</td>\n",
       "      <td>34</td>\n",
       "      <td>11</td>\n",
       "      <td>7</td>\n",
       "      <td>36</td>\n",
       "      <td>0.19</td>\n",
       "    </tr>\n",
       "    <tr>\n",
       "      <th>135157</th>\n",
       "      <td>135157</td>\n",
       "      <td>215898</td>\n",
       "      <td>73511</td>\n",
       "      <td>is it possible to know who visited my facebook...</td>\n",
       "      <td>how i can know who visited my facebook profile</td>\n",
       "      <td>1</td>\n",
       "      <td>54</td>\n",
       "      <td>46</td>\n",
       "      <td>10</td>\n",
       "      <td>9</td>\n",
       "      <td>6</td>\n",
       "      <td>19</td>\n",
       "      <td>0.32</td>\n",
       "    </tr>\n",
       "    <tr>\n",
       "      <th>190317</th>\n",
       "      <td>190317</td>\n",
       "      <td>289362</td>\n",
       "      <td>267181</td>\n",
       "      <td>what are the average prostitution prices world...</td>\n",
       "      <td>what is an average salary</td>\n",
       "      <td>0</td>\n",
       "      <td>50</td>\n",
       "      <td>25</td>\n",
       "      <td>7</td>\n",
       "      <td>5</td>\n",
       "      <td>2</td>\n",
       "      <td>12</td>\n",
       "      <td>0.17</td>\n",
       "    </tr>\n",
       "    <tr>\n",
       "      <th>291600</th>\n",
       "      <td>291600</td>\n",
       "      <td>413049</td>\n",
       "      <td>176739</td>\n",
       "      <td>is happiness the goal of life</td>\n",
       "      <td>what is your ultimate aim in life</td>\n",
       "      <td>0</td>\n",
       "      <td>29</td>\n",
       "      <td>33</td>\n",
       "      <td>6</td>\n",
       "      <td>7</td>\n",
       "      <td>2</td>\n",
       "      <td>13</td>\n",
       "      <td>0.15</td>\n",
       "    </tr>\n",
       "    <tr>\n",
       "      <th>46917</th>\n",
       "      <td>46917</td>\n",
       "      <td>32967</td>\n",
       "      <td>83838</td>\n",
       "      <td>which is the best day trading platform</td>\n",
       "      <td>what is the best online trading platform for d...</td>\n",
       "      <td>1</td>\n",
       "      <td>38</td>\n",
       "      <td>64</td>\n",
       "      <td>7</td>\n",
       "      <td>12</td>\n",
       "      <td>6</td>\n",
       "      <td>18</td>\n",
       "      <td>0.33</td>\n",
       "    </tr>\n",
       "  </tbody>\n",
       "</table>\n",
       "<p>50000 rows × 13 columns</p>\n",
       "</div>"
      ],
      "text/plain": [
       "            id    qid1    qid2  \\\n",
       "231143  231143  340876  340877   \n",
       "270514  270514  388419  388420   \n",
       "85404    85404  144202   38854   \n",
       "152954  152954   94471  240202   \n",
       "111433  111433  182517   59130   \n",
       "...        ...     ...     ...   \n",
       "376374  376374  507500  507501   \n",
       "135157  135157  215898   73511   \n",
       "190317  190317  289362  267181   \n",
       "291600  291600  413049  176739   \n",
       "46917    46917   32967   83838   \n",
       "\n",
       "                                                question1  \\\n",
       "231143  what is the peaceful and stressless job in it ...   \n",
       "270514             how do porn stars prepare for anal sex   \n",
       "85404                           is our universe expanding   \n",
       "152954   was the suicide squad movie good in your opinion   \n",
       "111433               how can i get free itunes gift cards   \n",
       "...                                                   ...   \n",
       "376374  can someone  selected officers  write a civil ...   \n",
       "135157  is it possible to know who visited my facebook...   \n",
       "190317  what are the average prostitution prices world...   \n",
       "291600                      is happiness the goal of life   \n",
       "46917              which is the best day trading platform   \n",
       "\n",
       "                                                question2  is_duplicate  \\\n",
       "231143  can i rejoin it sector after quitting my bank job             0   \n",
       "270514  how do porn stars not get feces on their penis...             0   \n",
       "85404   what are the proofs of scientists that the uni...             1   \n",
       "152954                    how is the movie  suicide squad             1   \n",
       "111433        how can i get free itunes gift cards online             1   \n",
       "...                                                   ...           ...   \n",
       "376374    what can india do for the world  write an essay             0   \n",
       "135157     how i can know who visited my facebook profile             1   \n",
       "190317                          what is an average salary             0   \n",
       "291600                  what is your ultimate aim in life             0   \n",
       "46917   what is the best online trading platform for d...             1   \n",
       "\n",
       "        q1_len  q2_len  q1_num_words  q2_num_words  word_common  word_total  \\\n",
       "231143      52      49            10            10            3          20   \n",
       "270514      38      69             8            14            6          22   \n",
       "85404       25      64             4            11            3          14   \n",
       "152954      48      31             9             7            4          16   \n",
       "111433      36      43             8             9            8          17   \n",
       "...        ...     ...           ...           ...          ...         ...   \n",
       "376374     168      47            34            11            7          36   \n",
       "135157      54      46            10             9            6          19   \n",
       "190317      50      25             7             5            2          12   \n",
       "291600      29      33             6             7            2          13   \n",
       "46917       38      64             7            12            6          18   \n",
       "\n",
       "        word_share  \n",
       "231143        0.15  \n",
       "270514        0.27  \n",
       "85404         0.21  \n",
       "152954        0.25  \n",
       "111433        0.47  \n",
       "...            ...  \n",
       "376374        0.19  \n",
       "135157        0.32  \n",
       "190317        0.17  \n",
       "291600        0.15  \n",
       "46917         0.33  \n",
       "\n",
       "[50000 rows x 13 columns]"
      ]
     },
     "execution_count": 78,
     "metadata": {},
     "output_type": "execute_result"
    }
   ],
   "source": [
    "new_df"
   ]
  },
  {
   "cell_type": "code",
   "execution_count": 79,
   "metadata": {
    "execution": {
     "iopub.execute_input": "2023-01-09T04:52:37.307534Z",
     "iopub.status.busy": "2023-01-09T04:52:37.306847Z",
     "iopub.status.idle": "2023-01-09T04:52:37.315296Z",
     "shell.execute_reply": "2023-01-09T04:52:37.314238Z",
     "shell.execute_reply.started": "2023-01-09T04:52:37.307497Z"
    }
   },
   "outputs": [
    {
     "data": {
      "text/plain": [
       "'i have already  was not done'"
      ]
     },
     "execution_count": 79,
     "metadata": {},
     "output_type": "execute_result"
    }
   ],
   "source": [
    "preprocess(\"I've already! wasn't <b>done</b>?\")"
   ]
  },
  {
   "cell_type": "code",
   "execution_count": 89,
   "metadata": {
    "execution": {
     "iopub.execute_input": "2023-01-09T05:08:20.243497Z",
     "iopub.status.busy": "2023-01-09T05:08:20.243105Z",
     "iopub.status.idle": "2023-01-09T05:08:22.431846Z",
     "shell.execute_reply": "2023-01-09T05:08:22.430162Z",
     "shell.execute_reply.started": "2023-01-09T05:08:20.243472Z"
    }
   },
   "outputs": [
    {
     "name": "stderr",
     "output_type": "stream",
     "text": [
      "[nltk_data] Downloading package stopwords to /usr/share/nltk_data...\n",
      "[nltk_data]   Package stopwords is already up-to-date!\n"
     ]
    }
   ],
   "source": [
    "#removing stopwords\n",
    "import nltk\n",
    "nltk.download('stopwords')\n",
    "from nltk.corpus import stopwords\n",
    "stop = stopwords.words('english')\n",
    "new_df['question1'] = new_df['question1'].apply(lambda x: \" \".join(x for x in x.split() if x not in stop))\n",
    "new_df['question2'] = new_df['question2'].apply(lambda x: \" \".join(x for x in x.split() if x not in stop))"
   ]
  },
  {
   "cell_type": "code",
   "execution_count": 90,
   "metadata": {
    "execution": {
     "iopub.execute_input": "2023-01-09T05:08:33.799663Z",
     "iopub.status.busy": "2023-01-09T05:08:33.799320Z",
     "iopub.status.idle": "2023-01-09T05:08:33.821796Z",
     "shell.execute_reply": "2023-01-09T05:08:33.820473Z",
     "shell.execute_reply.started": "2023-01-09T05:08:33.799638Z"
    }
   },
   "outputs": [
    {
     "data": {
      "text/html": [
       "<div>\n",
       "<style scoped>\n",
       "    .dataframe tbody tr th:only-of-type {\n",
       "        vertical-align: middle;\n",
       "    }\n",
       "\n",
       "    .dataframe tbody tr th {\n",
       "        vertical-align: top;\n",
       "    }\n",
       "\n",
       "    .dataframe thead th {\n",
       "        text-align: right;\n",
       "    }\n",
       "</style>\n",
       "<table border=\"1\" class=\"dataframe\">\n",
       "  <thead>\n",
       "    <tr style=\"text-align: right;\">\n",
       "      <th></th>\n",
       "      <th>id</th>\n",
       "      <th>qid1</th>\n",
       "      <th>qid2</th>\n",
       "      <th>question1</th>\n",
       "      <th>question2</th>\n",
       "      <th>is_duplicate</th>\n",
       "      <th>q1_len</th>\n",
       "      <th>q2_len</th>\n",
       "      <th>q1_num_words</th>\n",
       "      <th>q2_num_words</th>\n",
       "      <th>word_common</th>\n",
       "      <th>word_total</th>\n",
       "      <th>word_share</th>\n",
       "    </tr>\n",
       "  </thead>\n",
       "  <tbody>\n",
       "    <tr>\n",
       "      <th>231143</th>\n",
       "      <td>231143</td>\n",
       "      <td>340876</td>\n",
       "      <td>340877</td>\n",
       "      <td>peaceful stressless job sector</td>\n",
       "      <td>rejoin sector quitting bank job</td>\n",
       "      <td>0</td>\n",
       "      <td>52</td>\n",
       "      <td>49</td>\n",
       "      <td>10</td>\n",
       "      <td>10</td>\n",
       "      <td>3</td>\n",
       "      <td>20</td>\n",
       "      <td>0.15</td>\n",
       "    </tr>\n",
       "    <tr>\n",
       "      <th>270514</th>\n",
       "      <td>270514</td>\n",
       "      <td>388419</td>\n",
       "      <td>388420</td>\n",
       "      <td>porn stars prepare anal sex</td>\n",
       "      <td>porn stars get feces penises anal sex</td>\n",
       "      <td>0</td>\n",
       "      <td>38</td>\n",
       "      <td>69</td>\n",
       "      <td>8</td>\n",
       "      <td>14</td>\n",
       "      <td>6</td>\n",
       "      <td>22</td>\n",
       "      <td>0.27</td>\n",
       "    </tr>\n",
       "    <tr>\n",
       "      <th>85404</th>\n",
       "      <td>85404</td>\n",
       "      <td>144202</td>\n",
       "      <td>38854</td>\n",
       "      <td>universe expanding</td>\n",
       "      <td>proofs scientists universe expanding</td>\n",
       "      <td>1</td>\n",
       "      <td>25</td>\n",
       "      <td>64</td>\n",
       "      <td>4</td>\n",
       "      <td>11</td>\n",
       "      <td>3</td>\n",
       "      <td>14</td>\n",
       "      <td>0.21</td>\n",
       "    </tr>\n",
       "    <tr>\n",
       "      <th>152954</th>\n",
       "      <td>152954</td>\n",
       "      <td>94471</td>\n",
       "      <td>240202</td>\n",
       "      <td>suicide squad movie good opinion</td>\n",
       "      <td>movie suicide squad</td>\n",
       "      <td>1</td>\n",
       "      <td>48</td>\n",
       "      <td>31</td>\n",
       "      <td>9</td>\n",
       "      <td>7</td>\n",
       "      <td>4</td>\n",
       "      <td>16</td>\n",
       "      <td>0.25</td>\n",
       "    </tr>\n",
       "    <tr>\n",
       "      <th>111433</th>\n",
       "      <td>111433</td>\n",
       "      <td>182517</td>\n",
       "      <td>59130</td>\n",
       "      <td>get free itunes gift cards</td>\n",
       "      <td>get free itunes gift cards online</td>\n",
       "      <td>1</td>\n",
       "      <td>36</td>\n",
       "      <td>43</td>\n",
       "      <td>8</td>\n",
       "      <td>9</td>\n",
       "      <td>8</td>\n",
       "      <td>17</td>\n",
       "      <td>0.47</td>\n",
       "    </tr>\n",
       "    <tr>\n",
       "      <th>...</th>\n",
       "      <td>...</td>\n",
       "      <td>...</td>\n",
       "      <td>...</td>\n",
       "      <td>...</td>\n",
       "      <td>...</td>\n",
       "      <td>...</td>\n",
       "      <td>...</td>\n",
       "      <td>...</td>\n",
       "      <td>...</td>\n",
       "      <td>...</td>\n",
       "      <td>...</td>\n",
       "      <td>...</td>\n",
       "      <td>...</td>\n",
       "    </tr>\n",
       "    <tr>\n",
       "      <th>376374</th>\n",
       "      <td>376374</td>\n",
       "      <td>507500</td>\n",
       "      <td>507501</td>\n",
       "      <td>someone selected officers write civil service ...</td>\n",
       "      <td>india world write essay</td>\n",
       "      <td>0</td>\n",
       "      <td>168</td>\n",
       "      <td>47</td>\n",
       "      <td>34</td>\n",
       "      <td>11</td>\n",
       "      <td>7</td>\n",
       "      <td>36</td>\n",
       "      <td>0.19</td>\n",
       "    </tr>\n",
       "    <tr>\n",
       "      <th>135157</th>\n",
       "      <td>135157</td>\n",
       "      <td>215898</td>\n",
       "      <td>73511</td>\n",
       "      <td>possible know visited facebook profile</td>\n",
       "      <td>know visited facebook profile</td>\n",
       "      <td>1</td>\n",
       "      <td>54</td>\n",
       "      <td>46</td>\n",
       "      <td>10</td>\n",
       "      <td>9</td>\n",
       "      <td>6</td>\n",
       "      <td>19</td>\n",
       "      <td>0.32</td>\n",
       "    </tr>\n",
       "    <tr>\n",
       "      <th>190317</th>\n",
       "      <td>190317</td>\n",
       "      <td>289362</td>\n",
       "      <td>267181</td>\n",
       "      <td>average prostitution prices worldwide</td>\n",
       "      <td>average salary</td>\n",
       "      <td>0</td>\n",
       "      <td>50</td>\n",
       "      <td>25</td>\n",
       "      <td>7</td>\n",
       "      <td>5</td>\n",
       "      <td>2</td>\n",
       "      <td>12</td>\n",
       "      <td>0.17</td>\n",
       "    </tr>\n",
       "    <tr>\n",
       "      <th>291600</th>\n",
       "      <td>291600</td>\n",
       "      <td>413049</td>\n",
       "      <td>176739</td>\n",
       "      <td>happiness goal life</td>\n",
       "      <td>ultimate aim life</td>\n",
       "      <td>0</td>\n",
       "      <td>29</td>\n",
       "      <td>33</td>\n",
       "      <td>6</td>\n",
       "      <td>7</td>\n",
       "      <td>2</td>\n",
       "      <td>13</td>\n",
       "      <td>0.15</td>\n",
       "    </tr>\n",
       "    <tr>\n",
       "      <th>46917</th>\n",
       "      <td>46917</td>\n",
       "      <td>32967</td>\n",
       "      <td>83838</td>\n",
       "      <td>best day trading platform</td>\n",
       "      <td>best online trading platform day trading</td>\n",
       "      <td>1</td>\n",
       "      <td>38</td>\n",
       "      <td>64</td>\n",
       "      <td>7</td>\n",
       "      <td>12</td>\n",
       "      <td>6</td>\n",
       "      <td>18</td>\n",
       "      <td>0.33</td>\n",
       "    </tr>\n",
       "  </tbody>\n",
       "</table>\n",
       "<p>50000 rows × 13 columns</p>\n",
       "</div>"
      ],
      "text/plain": [
       "            id    qid1    qid2  \\\n",
       "231143  231143  340876  340877   \n",
       "270514  270514  388419  388420   \n",
       "85404    85404  144202   38854   \n",
       "152954  152954   94471  240202   \n",
       "111433  111433  182517   59130   \n",
       "...        ...     ...     ...   \n",
       "376374  376374  507500  507501   \n",
       "135157  135157  215898   73511   \n",
       "190317  190317  289362  267181   \n",
       "291600  291600  413049  176739   \n",
       "46917    46917   32967   83838   \n",
       "\n",
       "                                                question1  \\\n",
       "231143                     peaceful stressless job sector   \n",
       "270514                        porn stars prepare anal sex   \n",
       "85404                                  universe expanding   \n",
       "152954                   suicide squad movie good opinion   \n",
       "111433                         get free itunes gift cards   \n",
       "...                                                   ...   \n",
       "376374  someone selected officers write civil service ...   \n",
       "135157             possible know visited facebook profile   \n",
       "190317              average prostitution prices worldwide   \n",
       "291600                                happiness goal life   \n",
       "46917                           best day trading platform   \n",
       "\n",
       "                                       question2  is_duplicate  q1_len  \\\n",
       "231143           rejoin sector quitting bank job             0      52   \n",
       "270514     porn stars get feces penises anal sex             0      38   \n",
       "85404       proofs scientists universe expanding             1      25   \n",
       "152954                       movie suicide squad             1      48   \n",
       "111433         get free itunes gift cards online             1      36   \n",
       "...                                          ...           ...     ...   \n",
       "376374                   india world write essay             0     168   \n",
       "135157             know visited facebook profile             1      54   \n",
       "190317                            average salary             0      50   \n",
       "291600                         ultimate aim life             0      29   \n",
       "46917   best online trading platform day trading             1      38   \n",
       "\n",
       "        q2_len  q1_num_words  q2_num_words  word_common  word_total  \\\n",
       "231143      49            10            10            3          20   \n",
       "270514      69             8            14            6          22   \n",
       "85404       64             4            11            3          14   \n",
       "152954      31             9             7            4          16   \n",
       "111433      43             8             9            8          17   \n",
       "...        ...           ...           ...          ...         ...   \n",
       "376374      47            34            11            7          36   \n",
       "135157      46            10             9            6          19   \n",
       "190317      25             7             5            2          12   \n",
       "291600      33             6             7            2          13   \n",
       "46917       64             7            12            6          18   \n",
       "\n",
       "        word_share  \n",
       "231143        0.15  \n",
       "270514        0.27  \n",
       "85404         0.21  \n",
       "152954        0.25  \n",
       "111433        0.47  \n",
       "...            ...  \n",
       "376374        0.19  \n",
       "135157        0.32  \n",
       "190317        0.17  \n",
       "291600        0.15  \n",
       "46917         0.33  \n",
       "\n",
       "[50000 rows x 13 columns]"
      ]
     },
     "execution_count": 90,
     "metadata": {},
     "output_type": "execute_result"
    }
   ],
   "source": [
    "new_df"
   ]
  },
  {
   "cell_type": "code",
   "execution_count": 91,
   "metadata": {
    "execution": {
     "iopub.execute_input": "2023-01-09T05:12:00.808495Z",
     "iopub.status.busy": "2023-01-09T05:12:00.807923Z",
     "iopub.status.idle": "2023-01-09T05:12:00.814550Z",
     "shell.execute_reply": "2023-01-09T05:12:00.813303Z",
     "shell.execute_reply.started": "2023-01-09T05:12:00.808463Z"
    }
   },
   "outputs": [],
   "source": [
    "from nltk.stem.porter import PorterStemmer as ps"
   ]
  }
 ],
 "metadata": {
  "kernelspec": {
   "display_name": "Python 3 (ipykernel)",
   "language": "python",
   "name": "python3"
  },
  "language_info": {
   "codemirror_mode": {
    "name": "ipython",
    "version": 3
   },
   "file_extension": ".py",
   "mimetype": "text/x-python",
   "name": "python",
   "nbconvert_exporter": "python",
   "pygments_lexer": "ipython3",
   "version": "3.9.12"
  }
 },
 "nbformat": 4,
 "nbformat_minor": 4
}
